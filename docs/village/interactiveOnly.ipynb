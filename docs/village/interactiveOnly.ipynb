{
 "cells": [
  {
   "cell_type": "markdown",
   "metadata": {},
   "source": [
    "### 3D City Models from Volunteered Public Data\n",
    "\n",
    "<div class=\"alert alert-block alert-warning\"><b>This notebook will:</b>\n",
    "\n",
    "> **1. produce an [interactive *pseudo-3D* Building Model visualization](#Section1)** *- via [pydeck](https://deckgl.readthedocs.io/en/latest/) - which a user can navigate, query, share* **that**;\n",
    "> > **i) [colour buildings by type](#Section1a)** *(to easily visualize building stock)*  \n",
    "> > **ii) [includes additional features](#Section1b)** *(parks, bus rapid transit route, etc.)*  \n",
    ">\n",
    "> **2. allow the user to execute an application of Spatial Data Science**  \n",
    ">\n",
    ">> **i)  [population estimation](#Section2a)** _--with a previous census metric population growth rate and projected (future) population are also possible_  **and**    \n",
    ">> **ii)  a measure of [Building Volume per Capita](#Section2b).**\n",
    ">\n",
    "> **3. propose several [Geography and Sustainable Development Education *conversation starters*](#Section3) for Secondary and Tertiary level students** \n",
    "\n",
    "</div>"
   ]
  },
  {
   "cell_type": "markdown",
   "metadata": {},
   "source": [
    "<div class=\"alert alert-block alert-danger\"><b>Please Note:</b>\n",
    "\n",
    "***The [village](https://github.com/AdrianKriger/geo3D/tree/main/village)*** processing option is meant for areas with no more than for **2 500 buildings**.</div>"
   ]
  },
  {
   "cell_type": "code",
   "execution_count": 1,
   "metadata": {
    "editable": true,
    "slideshow": {
     "slide_type": ""
    },
    "tags": []
   },
   "outputs": [],
   "source": [
    "#load the magic\n",
    "\n",
    "%matplotlib inline\n",
    "import os\n",
    "from pathlib import Path\n",
    "import requests\n",
    "\n",
    "import overpass\n",
    "import osm2geojson\n",
    "\n",
    "import numpy as np\n",
    "import pandas as pd\n",
    "import geopandas as gpd\n",
    "import shapely\n",
    "from shapely.geometry import Polygon, shape, mapping\n",
    "#shapely.speedups.disable()\n",
    "import json\n",
    "import geojson\n",
    "import topojson as tp\n",
    "\n",
    "import fiona\n",
    "\n",
    "import city3D\n",
    "\n",
    "import matplotlib.pyplot as plt\n",
    "import pydeck as pdk"
   ]
  },
  {
   "cell_type": "markdown",
   "metadata": {},
   "source": [
    "<a id='Section1'></a>"
   ]
  },
  {
   "cell_type": "markdown",
   "metadata": {},
   "source": [
    "## 1. Interactive Visualization"
   ]
  },
  {
   "cell_type": "markdown",
   "metadata": {},
   "source": [
    "**Harvest [OpenStreetMap](https://en.wikipedia.org/wiki/OpenStreetMap)** - Query the [Overpass API](https://wiki.openstreetmap.org/wiki/Overpass_API) from within Jupyter and convert to .geojson."
   ]
  },
  {
   "cell_type": "markdown",
   "metadata": {},
   "source": [
    "<div class=\"alert alert-block alert-info\"><b>Set an area-of-interest:</b> \n",
    "    \n",
    "This is done: `large` area -> `focus` area or State (Province) -> Village (neighourhood / campus)\n",
    "</div>"
   ]
  },
  {
   "cell_type": "code",
   "execution_count": 2,
   "metadata": {},
   "outputs": [],
   "source": [
    "large = 'Western Cape'\n",
    "focus = 'Mamre'  \n",
    "osm_type = 'relation'"
   ]
  },
  {
   "cell_type": "code",
   "execution_count": 3,
   "metadata": {},
   "outputs": [],
   "source": [
    "query = \"\"\"\n",
    "     [out:json][timeout:30];\n",
    "    // --when areas have duplicate names given the world has a limited amount of uniquely named places\n",
    "    area[name='{0}'] ->.b;\n",
    "    // -- target area ~ can be way or relation\n",
    "    wr(area.b)[name='{1}'];\n",
    "    map_to_area -> .a;\n",
    "        // I want all buildings\n",
    "        (way['building'](area.a);\n",
    "        // and relation type=multipolygon ~ to removed courtyards from buildings\n",
    "        relation[\"building\"][\"type\"=\"multipolygon\"](area.a);\n",
    "    );\n",
    "    out count;\n",
    "    out geom 2500;\n",
    "    //out body;\n",
    "    //>;\n",
    "    //out skel qt;\n",
    "    \"\"\".format(large, focus)#osm_type, focus)\n",
    "\n",
    "url = \"http://overpass-api.de/api/interpreter\"\n",
    "r = requests.get(url, params={'data': query})\n",
    "#rr = r.read()\n",
    "gj = osm2geojson.json2geojson(r.json())"
   ]
  },
  {
   "cell_type": "markdown",
   "metadata": {},
   "source": [
    "<div class=\"alert alert-block alert-danger\"><b>NOTICE:</b>\n",
    "\n",
    "***[village](https://github.com/AdrianKriger/geo3D/tree/main/village)*** will return a maximum of 2 500 buildings in any `focus` area.</div>"
   ]
  },
  {
   "cell_type": "code",
   "execution_count": 4,
   "metadata": {},
   "outputs": [
    {
     "name": "stdout",
     "output_type": "stream",
     "text": [
      "\n",
      "Mamre has 2214 buildings\n",
      "\n",
      "\u001b[1mAll the buildings\u001b[0m  in Mamre have been harvested\n"
     ]
    }
   ],
   "source": [
    "#- some print statements\n",
    "print('')\n",
    "print(focus, 'has', r.json()['elements'][0]['tags']['ways'], 'buildings')\n",
    "if int(r.json()['elements'][0]['tags']['ways']) < 2500:\n",
    "    print('\\n\\033[1mAll the buildings\\033[0m  in', focus, 'have been harvested')\n",
    "else:\n",
    "    print('\\n', int(r.json()['elements'][0]['tags']['ways'])-2500, \"buildings have not been harvested.\")\n",
    "\n",
    "#-- try focus = 'Salt River' to see how a small urban suburb will perform or go over to the Suburb folder"
   ]
  },
  {
   "cell_type": "markdown",
   "metadata": {},
   "source": [
    "<div class=\"alert alert-block alert-info\"><b></b>\n",
    "\n",
    "\n",
    "Please do not burden the [OpenStreetMap](https://www.openstreetmap.org/about) server with excessive calls for data.\n",
    "\n",
    "**If you need to investigate a larger area (> 2 500 buildings); choose *[suburb](https://github.com/AdrianKriger/geo3D/tree/main/suburb)* please.**</div>"
   ]
  },
  {
   "cell_type": "code",
   "execution_count": 5,
   "metadata": {},
   "outputs": [
    {
     "data": {
      "text/plain": [
       "{'type': 'Feature',\n",
       " 'properties': {'type': 'way',\n",
       "  'id': 328118449,\n",
       "  'tags': {'building': 'yes', 'building:levels': '1'},\n",
       "  'nodes': [3349433548, 3349433562, 3349433561, 3349433547, 3349433548]},\n",
       " 'geometry': {'type': 'Polygon',\n",
       "  'coordinates': [[[18.4705985, -33.5053849],\n",
       "    [18.4706523, -33.5056294],\n",
       "    [18.4705655, -33.5056426],\n",
       "    [18.4705116, -33.5053982],\n",
       "    [18.4705985, -33.5053849]]]}}"
      ]
     },
     "execution_count": 5,
     "metadata": {},
     "output_type": "execute_result"
    }
   ],
   "source": [
    "# have a look at a random building\n",
    "gj['features'][2]"
   ]
  },
  {
   "cell_type": "markdown",
   "metadata": {},
   "source": [
    "<div class=\"alert alert-block alert-warning\"><b>Calculate building height:</b> \n",
    "\n",
    "We assume a building level is 2.8 meters high and add another 1.3 meters (to account for the roof) and create a new attribute `height`.</div>\n",
    "\n",
    "The Python code to execute the `.calc_Bldheight` function is in the `city3D.py` script"
   ]
  },
  {
   "cell_type": "code",
   "execution_count": 6,
   "metadata": {},
   "outputs": [],
   "source": [
    "# -- execute function. calculate building height\n",
    "#city3D.calc_Bldheight(gj)\n",
    "#city3D.calc_Bldheight(gj, is_geojson=True)\n",
    "city3D.calc_Bldheight(gj, is_geojson=True, output_file='./data/fp_j.geojson')"
   ]
  },
  {
   "cell_type": "markdown",
   "metadata": {},
   "source": [
    "**[pydeck](https://deckgl.readthedocs.io/en/latest/) needs an area and a center**, harvest from osm."
   ]
  },
  {
   "cell_type": "code",
   "execution_count": 7,
   "metadata": {},
   "outputs": [],
   "source": [
    "query = \"\"\"[out:json][timeout:30];\n",
    "        area[boundary=administrative][name='{0}'] -> .a;\n",
    "        (\n",
    "        way[amenity='university'][name='{2}'](area.a);\n",
    "        {1}[place][place~\"sub|town|city|count|state|village|borough|quarter|neighbourhood\"][name='{2}'](area.a);\n",
    "        );\n",
    "        out geom;\n",
    "        \"\"\".format(large, osm_type, focus)\n",
    "\n",
    "url = \"http://overpass-api.de/api/interpreter\"\n",
    "r = requests.get(url, params={'data': query})\n",
    "#rr = r.read()\n",
    "area = osm2geojson.json2geojson(r.json())"
   ]
  },
  {
   "cell_type": "code",
   "execution_count": 8,
   "metadata": {},
   "outputs": [],
   "source": [
    "#area['features'][0]"
   ]
  },
  {
   "cell_type": "code",
   "execution_count": 9,
   "metadata": {},
   "outputs": [],
   "source": [
    "#read into .gpd\n",
    "gdf = gpd.GeoDataFrame.from_features(area['features'])\n",
    "\n",
    "#-- some relation aoi's are many relations ~ extract the 'place' \n",
    "if osm_type == 'relation' and len(gdf) > 1:\n",
    "    gdf.dropna(subset = [\"tags\"], inplace=True)\n",
    "    for i, row in gdf.iterrows():\n",
    "        if row.tags != None and row.tags != np.nan and 'place' in row.tags:\n",
    "            focus = row\n",
    "            \n",
    "    trim = pd.DataFrame(focus)\n",
    "    trim = trim.T\n",
    "    gdf = gpd.GeoDataFrame(trim, geometry = trim['geometry'])\n",
    "        \n",
    "#gdf = gdf.set_crs(4326)\n",
    "\n",
    "# -- get the location for pydeck\n",
    "[xy] = gdf.geometry.centroid\n",
    "bbox = [gdf.total_bounds[0], gdf.total_bounds[1], \n",
    "        gdf.total_bounds[2], gdf.total_bounds[3]]"
   ]
  },
  {
   "cell_type": "code",
   "execution_count": 10,
   "metadata": {},
   "outputs": [],
   "source": [
    "#xy.x\n",
    "#gdf"
   ]
  },
  {
   "cell_type": "markdown",
   "metadata": {},
   "source": [
    "***~ In order to make the most of the semantic data we need to extract the `osm_tags` from the dictionary: and add it as `tooltips` to the visualization.***\n",
    "\n",
    "<a id='Section1a'></a>\n",
    "<div class=\"alert alert-block alert-success\"><b>Building Stock:</b> To differentiate a school, formal and informal housing, retail, healthcare and community focused facilities (library, municipal office, community centre) we color the buildings - we harvest the osm tags [building type] directly.</div>"
   ]
  },
  {
   "cell_type": "code",
   "execution_count": 11,
   "metadata": {},
   "outputs": [],
   "source": [
    "data = './data/fp_j.geojson'\n",
    "json = pd.read_json(data)\n",
    "build_df = pd.DataFrame()\n",
    "\n",
    "# Parse the geometry out to geopandas\n",
    "gdf = gpd.GeoDataFrame.from_features(json['features'])\n",
    "\n",
    "build_df[\"height\"] = round(json[\"features\"].apply(lambda row: row[\"properties\"][\"building_height\"]), 1)\n",
    "build_df[\"plus_codes\"] = json[\"features\"].apply(lambda row: row[\"properties\"][\"plus_code\"])\n",
    "\n",
    "#we want to display data so extract values from the dictionary \n",
    "build_df[\"id\"] = json[\"features\"].apply(lambda row: row[\"properties\"][\"osm_id\"])\n",
    "build_df[\"tags\"] = json[\"features\"].apply(lambda row: row[\"properties\"])#[\"osm_tags\"])\n",
    "build_df['levels'] = build_df['tags'].apply(lambda x: x.get('building:levels')).astype(float)\n",
    "\n",
    "build_df['building'] = build_df['tags'].apply(lambda x: x.get('building'))\n",
    "build_df['building:use'] = build_df['tags'].apply(lambda x: x.get('building:use'))\n",
    "build_df['address'] = build_df['tags'].apply(lambda x: x.get('address'))\n",
    "build_df['building:flats'] = build_df['tags'].apply(lambda x: x.get('building:flats'))\n",
    "build_df['building:units'] = build_df['tags'].apply(lambda x: x.get('building:units'))\n",
    "build_df['amenity'] = build_df['tags'].apply(lambda x: x.get('amenity'))\n",
    "build_df['social_facility'] = build_df['tags'].apply(lambda x: x.get('social_facility'))\n",
    "build_df['residential'] = build_df['tags'].apply(lambda x: x.get('residential'))\n",
    "build_df['beds'] = build_df['tags'].apply(lambda x: x.get('beds'))\n",
    "build_df['rooms'] = build_df['tags'].apply(lambda x: x.get('rooms'))\n",
    "\n",
    "build_df = gpd.GeoDataFrame(build_df, geometry=gdf.geometry, crs=4326)"
   ]
  },
  {
   "cell_type": "code",
   "execution_count": 12,
   "metadata": {},
   "outputs": [
    {
     "data": {
      "text/html": [
       "<div>\n",
       "<style scoped>\n",
       "    .dataframe tbody tr th:only-of-type {\n",
       "        vertical-align: middle;\n",
       "    }\n",
       "\n",
       "    .dataframe tbody tr th {\n",
       "        vertical-align: top;\n",
       "    }\n",
       "\n",
       "    .dataframe thead th {\n",
       "        text-align: right;\n",
       "    }\n",
       "</style>\n",
       "<table border=\"1\" class=\"dataframe\">\n",
       "  <thead>\n",
       "    <tr style=\"text-align: right;\">\n",
       "      <th></th>\n",
       "      <th>height</th>\n",
       "      <th>plus_codes</th>\n",
       "      <th>id</th>\n",
       "      <th>tags</th>\n",
       "      <th>levels</th>\n",
       "      <th>building</th>\n",
       "      <th>building:use</th>\n",
       "      <th>address</th>\n",
       "      <th>building:flats</th>\n",
       "      <th>building:units</th>\n",
       "      <th>amenity</th>\n",
       "      <th>social_facility</th>\n",
       "      <th>residential</th>\n",
       "      <th>beds</th>\n",
       "      <th>rooms</th>\n",
       "      <th>geometry</th>\n",
       "    </tr>\n",
       "  </thead>\n",
       "  <tbody>\n",
       "    <tr>\n",
       "      <th>0</th>\n",
       "      <td>4.1</td>\n",
       "      <td>4FRWFFVC+P79</td>\n",
       "      <td>328118446</td>\n",
       "      <td>{'osm_id': 328118446, 'building': 'yes', 'buil...</td>\n",
       "      <td>1.0</td>\n",
       "      <td>yes</td>\n",
       "      <td>None</td>\n",
       "      <td>None</td>\n",
       "      <td>None</td>\n",
       "      <td>None</td>\n",
       "      <td>None</td>\n",
       "      <td>None</td>\n",
       "      <td>None</td>\n",
       "      <td>None</td>\n",
       "      <td>None</td>\n",
       "      <td>POLYGON ((18.47060 -33.50579, 18.47070 -33.505...</td>\n",
       "    </tr>\n",
       "    <tr>\n",
       "      <th>1</th>\n",
       "      <td>6.9</td>\n",
       "      <td>4FRWFFVC+H9Q</td>\n",
       "      <td>328118447</td>\n",
       "      <td>{'osm_id': 328118447, 'building': 'church', 'b...</td>\n",
       "      <td>2.0</td>\n",
       "      <td>church</td>\n",
       "      <td>None</td>\n",
       "      <td>Kerk Street Mamre 7347 Cape Town</td>\n",
       "      <td>None</td>\n",
       "      <td>None</td>\n",
       "      <td>place_of_worship</td>\n",
       "      <td>None</td>\n",
       "      <td>None</td>\n",
       "      <td>None</td>\n",
       "      <td>None</td>\n",
       "      <td>POLYGON ((18.47092 -33.50592, 18.47093 -33.505...</td>\n",
       "    </tr>\n",
       "  </tbody>\n",
       "</table>\n",
       "</div>"
      ],
      "text/plain": [
       "   height  ...                                           geometry\n",
       "0     4.1  ...  POLYGON ((18.47060 -33.50579, 18.47070 -33.505...\n",
       "1     6.9  ...  POLYGON ((18.47092 -33.50592, 18.47093 -33.505...\n",
       "\n",
       "[2 rows x 16 columns]"
      ]
     },
     "execution_count": 12,
     "metadata": {},
     "output_type": "execute_result"
    }
   ],
   "source": [
    "#- look\n",
    "build_df.head(2)"
   ]
  },
  {
   "cell_type": "code",
   "execution_count": 13,
   "metadata": {},
   "outputs": [
    {
     "data": {
      "text/plain": [
       "array(['yes', 'church', 'house', 'public', 'civic', 'office', 'retail',\n",
       "       'clinic', 'school', 'cabin', 'garage', 'greenhouse', 'roof',\n",
       "       'kindergarten', 'clubhouse', 'service', 'detached', 'shed'],\n",
       "      dtype=object)"
      ]
     },
     "execution_count": 13,
     "metadata": {},
     "output_type": "execute_result"
    }
   ],
   "source": [
    "# have a look at the building type and amenities available\n",
    "#df2['bld'].unique()\n",
    "build_df['building'].unique()"
   ]
  },
  {
   "cell_type": "code",
   "execution_count": 14,
   "metadata": {},
   "outputs": [
    {
     "data": {
      "text/plain": [
       "2187"
      ]
     },
     "execution_count": 14,
     "metadata": {},
     "output_type": "execute_result"
    }
   ],
   "source": [
    "len(build_df)"
   ]
  },
  {
   "cell_type": "code",
   "execution_count": 15,
   "metadata": {},
   "outputs": [],
   "source": [
    "#- some data wrangling to account for when building:use is different from the original purpose \n",
    "#- (building=warehouse now loft apartments or =church now office, etc.)\n",
    "df2 = build_df.copy()\n",
    "df_res = build_df[build_df['building:use'] == 'residential']\n",
    "#df_res = df2[df2['building:use'] != None]\n",
    "df_res = df_res[~df_res['building:use'].isna()]\n",
    "df2.loc[df_res.index, 'building'] = df_res['building:use'] "
   ]
  },
  {
   "cell_type": "code",
   "execution_count": 16,
   "metadata": {},
   "outputs": [],
   "source": [
    "#build_df.plot()"
   ]
  },
  {
   "cell_type": "code",
   "execution_count": 17,
   "metadata": {},
   "outputs": [],
   "source": [
    "# colour buildings based on use / amenity\n",
    "def color(bld):\n",
    "    #- formal house\n",
    "    if bld == 'house' or bld == 'semidetached_house' or bld == 'terrace': #- add maisonette, duplex, etc. \n",
    "        return [255, 255, 204]                        #-grey\n",
    "    if bld == 'apartments':\n",
    "        return [252, 194, 3]                          #-orange \n",
    "    #- informal structure / social housing / student\n",
    "    if bld == 'residential' or bld == 'dormitory' or bld == 'cabin':\n",
    "        return [119, 3, 252]                          #-purple\n",
    "        \n",
    "    if bld == 'garage' or bld == 'parking':\n",
    "        return [3, 132, 252]                          #-blue        \n",
    "    if bld == 'retail' or bld == 'supermarket':\n",
    "        return [253, 141, 60]\n",
    "    if bld == 'office' or bld == 'commercial':\n",
    "        return [185, 206, 37]\n",
    "    if bld == 'school' or bld == 'kindergarten' or bld == 'university' or bld == 'college':\n",
    "        return [128, 0, 38]\n",
    "    if bld == 'clinic' or bld == 'doctors' or bld == 'hospital':\n",
    "        return [89, 182, 178]\n",
    "    if bld == 'community_centre' or bld == 'service' or bld == 'post_office' or bld == 'hall' or bld == 'civic' \\\n",
    "    or bld ==  'townhall' or bld == 'police' or bld == 'library' or bld == 'fire_station' :\n",
    "        return [181, 182, 89]\n",
    "    if bld == 'warehouse' or bld == 'industrial':\n",
    "        return [193, 255, 193]\n",
    "    if bld == 'hotel':\n",
    "        return [139, 117, 0]\n",
    "    if bld == 'church' or bld == 'mosque' or bld == 'synagogue':\n",
    "        return [225, 225, 51]\n",
    "    else:\n",
    "        return [255, 255, 204]\n",
    "\n",
    "#build_df[\"fill_color\"] = build_df['combine'].apply(lambda x: color(x))\n",
    "df2[\"fill_color\"] = df2['building'].apply(lambda x: color(x))"
   ]
  },
  {
   "cell_type": "code",
   "execution_count": 18,
   "metadata": {},
   "outputs": [
    {
     "data": {
      "text/html": [
       "<div>\n",
       "<style scoped>\n",
       "    .dataframe tbody tr th:only-of-type {\n",
       "        vertical-align: middle;\n",
       "    }\n",
       "\n",
       "    .dataframe tbody tr th {\n",
       "        vertical-align: top;\n",
       "    }\n",
       "\n",
       "    .dataframe thead th {\n",
       "        text-align: right;\n",
       "    }\n",
       "</style>\n",
       "<table border=\"1\" class=\"dataframe\">\n",
       "  <thead>\n",
       "    <tr style=\"text-align: right;\">\n",
       "      <th></th>\n",
       "      <th>height</th>\n",
       "      <th>plus_codes</th>\n",
       "      <th>id</th>\n",
       "      <th>tags</th>\n",
       "      <th>levels</th>\n",
       "      <th>building</th>\n",
       "      <th>building:use</th>\n",
       "      <th>address</th>\n",
       "      <th>building:flats</th>\n",
       "      <th>building:units</th>\n",
       "      <th>amenity</th>\n",
       "      <th>social_facility</th>\n",
       "      <th>residential</th>\n",
       "      <th>beds</th>\n",
       "      <th>rooms</th>\n",
       "      <th>geometry</th>\n",
       "      <th>fill_color</th>\n",
       "    </tr>\n",
       "  </thead>\n",
       "  <tbody>\n",
       "    <tr>\n",
       "      <th>0</th>\n",
       "      <td>4.1</td>\n",
       "      <td>4FRWFFVC+P79</td>\n",
       "      <td>328118446</td>\n",
       "      <td>{'osm_id': 328118446, 'building': 'yes', 'buil...</td>\n",
       "      <td>1.0</td>\n",
       "      <td>yes</td>\n",
       "      <td>None</td>\n",
       "      <td>None</td>\n",
       "      <td>None</td>\n",
       "      <td>None</td>\n",
       "      <td>None</td>\n",
       "      <td>None</td>\n",
       "      <td>None</td>\n",
       "      <td>None</td>\n",
       "      <td>None</td>\n",
       "      <td>POLYGON ((18.47060 -33.50579, 18.47070 -33.505...</td>\n",
       "      <td>[255, 255, 204]</td>\n",
       "    </tr>\n",
       "    <tr>\n",
       "      <th>1</th>\n",
       "      <td>6.9</td>\n",
       "      <td>4FRWFFVC+H9Q</td>\n",
       "      <td>328118447</td>\n",
       "      <td>{'osm_id': 328118447, 'building': 'church', 'b...</td>\n",
       "      <td>2.0</td>\n",
       "      <td>church</td>\n",
       "      <td>None</td>\n",
       "      <td>Kerk Street Mamre 7347 Cape Town</td>\n",
       "      <td>None</td>\n",
       "      <td>None</td>\n",
       "      <td>place_of_worship</td>\n",
       "      <td>None</td>\n",
       "      <td>None</td>\n",
       "      <td>None</td>\n",
       "      <td>None</td>\n",
       "      <td>POLYGON ((18.47092 -33.50592, 18.47093 -33.505...</td>\n",
       "      <td>[225, 225, 51]</td>\n",
       "    </tr>\n",
       "  </tbody>\n",
       "</table>\n",
       "</div>"
      ],
      "text/plain": [
       "   height  ...       fill_color\n",
       "0     4.1  ...  [255, 255, 204]\n",
       "1     6.9  ...   [225, 225, 51]\n",
       "\n",
       "[2 rows x 17 columns]"
      ]
     },
     "execution_count": 18,
     "metadata": {},
     "output_type": "execute_result"
    }
   ],
   "source": [
    "df2.head(2)\n",
    "#build_df.coordinates[0]"
   ]
  },
  {
   "cell_type": "markdown",
   "metadata": {},
   "source": [
    "<a id='Section1b'></a>\n",
    "<div class=\"alert alert-block alert-success\"><b>Additional Features:</b> \n",
    "    \n",
    "To show the potential and power of **3D City Models** we can add additional features to the visualization; *namely: bus rapid transit, parks, agricultural land and waterways (streams). We get this from [OpenStreetMap](https://en.wikipedia.org/wiki/OpenStreetMap) as well.*.</div>"
   ]
  },
  {
   "cell_type": "code",
   "execution_count": 19,
   "metadata": {},
   "outputs": [],
   "source": [
    "query = \"\"\"[out:json][timeout:30];\n",
    "            // --main area\n",
    "            area[name='{0}']->.b;\n",
    "           // -- target area ~ can be way or relation\n",
    "           {1}(area.b)[name='{2}'];\n",
    "           map_to_area -> .a;\n",
    "           (\n",
    "           // query\n",
    "           way[\"sport\"](area.a);\n",
    "           way['leisure'=\"park\"](area.a);\n",
    "           );\n",
    "           // print results\n",
    "           out geom;\n",
    "           //out body;\n",
    "           //>;\n",
    "           //out skel qt;\n",
    "           \"\"\".format(large, osm_type, focus)\n",
    "\n",
    "#url = \"http://overpass-api.de/api/interpreter\"\n",
    "p = requests.get(url, params={'data': query})\n",
    "#rr = r.read()\n",
    "green_spaces = osm2geojson.json2geojson(p.json())\n",
    "\n",
    "query = \"\"\"[out:json][timeout:30];\n",
    "            // --main area\n",
    "            area[name='{0}']->.b;\n",
    "            // -- target area ~ can be way or relation\n",
    "            {1}(area.b)[name='{2}'];\n",
    "            map_to_area -> .a;\n",
    "            (\n",
    "            // query\n",
    "            way['waterway'='stream'](area.a);\n",
    "            );\n",
    "            // print results\n",
    "            out body;\n",
    "            >;\n",
    "            out skel qt;\"\"\".format(large, osm_type, focus)\n",
    "\n",
    "#url = \"http://overpass-api.de/api/interpreter\"\n",
    "w = requests.get(url, params={'data': query})\n",
    "#rr = r.read()\n",
    "water_spaces = osm2geojson.json2geojson(w.json())\n",
    "\n",
    "query = \"\"\"[out:json][timeout:30];\n",
    "        // --main area\n",
    "        area[name='{0}']->.b;\n",
    "        // -- target area ~ can be way or relation\n",
    "        {1}(area.b)[name='{2}'];\n",
    "        map_to_area -> .a;\n",
    "        (\n",
    "        // query\n",
    "        way['landuse'='farmland'](area.a);\n",
    "        );\n",
    "        // print results\n",
    "        out body;\n",
    "        >;\n",
    "        out skel qt;\n",
    "        \"\"\".format(large, osm_type, focus)\n",
    "\n",
    "url = \"http://overpass-api.de/api/interpreter\"\n",
    "f = requests.get(url, params={'data': query})\n",
    "#rr = r.read()\n",
    "p_spaces = osm2geojson.json2geojson(f.json())"
   ]
  },
  {
   "cell_type": "code",
   "execution_count": 20,
   "metadata": {},
   "outputs": [],
   "source": [
    "# the bus route ~~ note we only choose routes with a 'colour' tag\n",
    "query = \"\"\"\n",
    "[out:json][timeout:30];\n",
    "area[name='{0}'];\n",
    "// -- target area ~ can be way or relation\n",
    "// gather results\n",
    "(\n",
    "  // query part for: “\"bus route\"”\n",
    "  relation[\"type\"=\"route\"][\"route\"=\"bus\"]['operator'=\"MyCiTi\"]['colour'](area);\n",
    ");\n",
    "// print results\n",
    "out body;\n",
    ">;\n",
    "out skel qt;\n",
    "\"\"\".format(large)\n",
    "\n",
    "url = \"http://overpass-api.de/api/interpreter\"\n",
    "r = requests.get(url, params={'data': query})\n",
    "#rr = r.read()\n",
    "r_lines = osm2geojson.json2geojson(r.json())"
   ]
  },
  {
   "cell_type": "code",
   "execution_count": 21,
   "metadata": {},
   "outputs": [
    {
     "data": {
      "text/plain": [
       "{'type': 'relation',\n",
       " 'id': 947075,\n",
       " 'tags': {'colour': '#AACDD2',\n",
       "  'from': 'Civic Centre',\n",
       "  'name': 'Bus A01: Civic Centre – Airport [Suspended]',\n",
       "  'network': 'Cape Town IRT',\n",
       "  'operator': 'MyCiTi',\n",
       "  'public_transport:version': '2',\n",
       "  'ref': 'A01',\n",
       "  'route': 'bus',\n",
       "  'to': 'Airport',\n",
       "  'type': 'route'}}"
      ]
     },
     "execution_count": 21,
     "metadata": {},
     "output_type": "execute_result"
    }
   ],
   "source": [
    "# have a look at a random bus route\n",
    "r_lines['features'][0]['properties']"
   ]
  },
  {
   "cell_type": "code",
   "execution_count": 22,
   "metadata": {},
   "outputs": [
    {
     "data": {
      "text/html": [
       "<div>\n",
       "<style scoped>\n",
       "    .dataframe tbody tr th:only-of-type {\n",
       "        vertical-align: middle;\n",
       "    }\n",
       "\n",
       "    .dataframe tbody tr th {\n",
       "        vertical-align: top;\n",
       "    }\n",
       "\n",
       "    .dataframe thead th {\n",
       "        text-align: right;\n",
       "    }\n",
       "</style>\n",
       "<table border=\"1\" class=\"dataframe\">\n",
       "  <thead>\n",
       "    <tr style=\"text-align: right;\">\n",
       "      <th></th>\n",
       "      <th></th>\n",
       "      <th>type</th>\n",
       "      <th>id</th>\n",
       "      <th>tags</th>\n",
       "      <th>nodes</th>\n",
       "      <th>geometry</th>\n",
       "      <th>path</th>\n",
       "      <th>name</th>\n",
       "      <th>colour</th>\n",
       "    </tr>\n",
       "  </thead>\n",
       "  <tbody>\n",
       "    <tr>\n",
       "      <th>0</th>\n",
       "      <th>0</th>\n",
       "      <td>relation</td>\n",
       "      <td>947075</td>\n",
       "      <td>{'colour': '#AACDD2', 'from': 'Civic Centre', ...</td>\n",
       "      <td>NaN</td>\n",
       "      <td>LINESTRING (18.42874 -33.91977, 18.42884 -33.9...</td>\n",
       "      <td>[(18.4287357, -33.9197677), (18.4288394, -33.9...</td>\n",
       "      <td>Bus A01: Civic Centre – Airport [Suspended]</td>\n",
       "      <td>(170, 205, 210)</td>\n",
       "    </tr>\n",
       "    <tr>\n",
       "      <th rowspan=\"2\" valign=\"top\">1</th>\n",
       "      <th>0</th>\n",
       "      <td>relation</td>\n",
       "      <td>947076</td>\n",
       "      <td>{'colour': '#AACDD2', 'from': 'Airport', 'name...</td>\n",
       "      <td>NaN</td>\n",
       "      <td>LINESTRING (18.56274 -33.96201, 18.56253 -33.9...</td>\n",
       "      <td>[(18.5627383, -33.9620148), (18.5625333, -33.9...</td>\n",
       "      <td>Bus A01: Airport – Civic Centre [Suspended]</td>\n",
       "      <td>(170, 205, 210)</td>\n",
       "    </tr>\n",
       "    <tr>\n",
       "      <th>1</th>\n",
       "      <td>relation</td>\n",
       "      <td>947076</td>\n",
       "      <td>{'colour': '#AACDD2', 'from': 'Airport', 'name...</td>\n",
       "      <td>NaN</td>\n",
       "      <td>LINESTRING (18.56357 -33.96227, 18.56274 -33.9...</td>\n",
       "      <td>[(18.563566, -33.9622656), (18.5627383, -33.96...</td>\n",
       "      <td>Bus A01: Airport – Civic Centre [Suspended]</td>\n",
       "      <td>(170, 205, 210)</td>\n",
       "    </tr>\n",
       "  </tbody>\n",
       "</table>\n",
       "</div>"
      ],
      "text/plain": [
       "         type  ...           colour\n",
       "0 0  relation  ...  (170, 205, 210)\n",
       "1 0  relation  ...  (170, 205, 210)\n",
       "  1  relation  ...  (170, 205, 210)\n",
       "\n",
       "[3 rows x 8 columns]"
      ]
     },
     "execution_count": 22,
     "metadata": {},
     "output_type": "execute_result"
    }
   ],
   "source": [
    "# extract path and assign colour ~~ so the visualization matches the official documentation\n",
    "\n",
    "Rgdf = gpd.GeoDataFrame.from_features(r_lines['features'])\n",
    "Rgdf = Rgdf.explode(index_parts=True)\n",
    "def coords(geom):\n",
    "    return list(geom.coords)\n",
    "Rgdf['path'] = Rgdf.apply(lambda row: coords(row.geometry), axis=1)\n",
    "\n",
    "Rgdf['name'] = Rgdf['tags'].apply(lambda x: x.get('name')\\\n",
    "                                    if isinstance(x, dict) else np.nan)\n",
    "Rgdf['colour'] = Rgdf['tags'].apply(lambda x: x.get('colour', np.nan)\\\n",
    "                                    if isinstance(x, dict) else np.nan)\n",
    "Rgdf = Rgdf[Rgdf['colour'].notna()]\n",
    "\n",
    "def hex_to_rgb(h):\n",
    "    h = h.lstrip(\"#\")\n",
    "    #h = h.replace('#', '')\n",
    "    return tuple(int(h[i : i + 2], 16) for i in (0, 2, 4))\n",
    "\n",
    "Rgdf[\"colour\"] = Rgdf[\"colour\"].apply(hex_to_rgb)\n",
    "\n",
    "Rgdf.head(3)"
   ]
  },
  {
   "cell_type": "code",
   "execution_count": null,
   "metadata": {},
   "outputs": [],
   "source": [
    "## ~ (x, y) - bl, tl, tr, br  ~~ or ~~ sw, nw, ne, se\n",
    "#area = [[[18.4377, -33.9307], [18.4377, -33.9283], [18.4418, -33.9283], [18.4418, -33.9307]]]\n",
    "area = [[[bbox[0], bbox[1]], [bbox[0], bbox[3]], \n",
    "         [bbox[2], bbox[3]], [bbox[2], bbox[1]]]]\n",
    "\n",
    "## ~ (y, x)\n",
    "view_state = pdk.ViewState(latitude=xy.y, longitude=xy.x, zoom=16.5, max_zoom=19, pitch=72, \n",
    "                                   bearing=80)\n",
    "\n",
    "land = pdk.Layer(\n",
    "    \"PolygonLayer\",\n",
    "    #\"GeoJsonLayer\",\n",
    "    area,\n",
    "    #build_df,\n",
    "    stroked=False,\n",
    "    # processes the data as a flat longitude-latitude pair\n",
    "    get_polygon=\"-\",\n",
    "    get_fill_color=[0, 0, 0, 1],\n",
    "    #material = True,\n",
    "    #shadowEnabled = True\n",
    ")\n",
    "building_layer = pdk.Layer(\n",
    "    \"PolygonLayer\",\n",
    "    #\"GeoJsonLayer\",\n",
    "    df2,\n",
    "    #id=\"geojson\",\n",
    "    opacity=0.3,\n",
    "    stroked=False,\n",
    "    get_polygon=\"geometry.coordinates\",\n",
    "    filled=True,\n",
    "    extruded=True,\n",
    "    wireframe=False,\n",
    "    get_elevation=\"height\",\n",
    "    #get_fill_color=\"[255, 255, 255]\", #255, 255, 255\n",
    "    get_fill_color=\"fill_color\",\n",
    "    get_line_color=\"fill_color\",#[255, 255, 255],\n",
    "    #material = True, \n",
    "    #shadowEnabled = True, \n",
    "    auto_highlight=True,\n",
    "    pickable=True,\n",
    ")\n",
    "greenspaces_layer =  pdk.Layer(\n",
    "    \"GeoJsonLayer\",\n",
    "    green_spaces,\n",
    "    opacity=0.5,\n",
    "    stroked=False,\n",
    "    filled=True,\n",
    "    wireframe=True,\n",
    "    get_fill_color=\"[14, 140, 58]\",\n",
    "    get_line_color='[14, 140, 58]',\n",
    ")\n",
    "\n",
    "water_layer =  pdk.Layer(\n",
    "    \"GeoJsonLayer\",\n",
    "    water_spaces,\n",
    "    opacity=0.8,\n",
    "    stroked=False,\n",
    "    filled=True,\n",
    "    wireframe=True,\n",
    "    get_fill_color=\"[35, 35, 142]\",\n",
    "    get_line_color='[35, 35, 142]',\n",
    ")\n",
    "\n",
    "r_layer = pdk.Layer(\n",
    "    type=\"PathLayer\",\n",
    "    data=Rgdf,\n",
    "    get_color='colour', #'[245, 51, 58]',\n",
    "    #width_scale=20,\n",
    "    #width_min_pixels=8,\n",
    "    get_path=\"path\",\n",
    "    get_width=5,\n",
    "    auto_highlight=False, # change to True if route query\n",
    "    pickable=False, # change to True if route query\n",
    ")\n",
    "p_layer =  pdk.Layer(\n",
    "    \"GeoJsonLayer\",\n",
    "    p_spaces,\n",
    "    opacity=0.2,\n",
    "    stroked=False,\n",
    "    filled=True,\n",
    "    wireframe=True,\n",
    "    get_fill_color=\"[170, 83, 3]\",\n",
    "    get_line_color='[170, 83, 3]',\n",
    ")\n",
    "\n",
    "tooltip = {\"html\": \"<b>Levels:</b> {levels} <br/> <b>Address:</b> {address}\\\n",
    "<br/> <b>Plus Code:</b> {plus_codes} <br/> <b>Building Type:</b> {building}\"}\n",
    "\n",
    "#change the tooltip to show bus routes and comment out the previous\n",
    "#tooltip = {\"html\": \"<b>Route:</b> {name} <br/>\"}\n",
    "\n",
    "r = pdk.Deck(layers=[greenspaces_layer, p_layer, water_layer, r_layer, building_layer],\n",
    "             #views=[{\"@@type\": \"MapView\", \"controller\": True}],\n",
    "             initial_view_state=view_state,\n",
    "             map_style = 'dark_no_labels', #pdk.map_styles.LIGHT,\n",
    "             tooltip=tooltip)\n",
    "#save\n",
    "r.to_html(\"./result/interactiveOnly.html\")\n",
    "#r.show()"
   ]
  },
  {
   "cell_type": "code",
   "execution_count": null,
   "metadata": {},
   "outputs": [],
   "source": []
  },
  {
   "cell_type": "markdown",
   "metadata": {},
   "source": [
    "**on a laptop without a mouse:**\n",
    "\n",
    "- `trackpad left-click drag-left` and `-right`;\n",
    "- `Ctrl left-click drag-up`, `-down`, `-left` and `-right` to rotate and so-on and\n",
    "- `+` next to Backspace zoom-in and `-` next to `+` zoom-out.\n",
    "\n",
    "**Now you do your community.** ~ If your area needs [OpenStreetMap](https://en.wikipedia.org/wiki/OpenStreetMap)  data and you want to contribute please follow the [Guide](https://wiki.openstreetmap.org/wiki/Beginners%27_guide).\n",
    "\n",
    "***"
   ]
  },
  {
   "cell_type": "markdown",
   "metadata": {},
   "source": [
    "<div class=\"alert alert-block alert-danger\"><b>GO FURTHER</b></div>"
   ]
  },
  {
   "cell_type": "markdown",
   "metadata": {},
   "source": [
    "## 2. Spatial Data Science"
   ]
  },
  {
   "cell_type": "markdown",
   "metadata": {},
   "source": [
    "<div class=\"alert alert-block alert-warning\"><b>Now that we have a visualization of building stock (buildings colorized by `use`); lets do some basic spatial analysis:</b>  \n",
    "    \n",
    "     \n",
    "- We'll estimate the population, within our area of interest, and then  \n",
    "- calculate the Building Volume Per Capita (BVPC).\n",
    "</div>"
   ]
  },
  {
   "cell_type": "markdown",
   "metadata": {},
   "source": [
    "While estimating population is well documented; recent investigations to **understand overcrowding** have led to newer measurements.  \n",
    "\n",
    "The most noteable of these is **Building Volume Per Capita (BVPC)** [(Ghosh, T; et al. 2020)](https://www.researchgate.net/publication/343185735_Building_Volume_Per_Capita_BVPC_A_Spatially_Explicit_Measure_of_Inequality_Relevant_to_the_SDGs). BVPC is the cubic meters of building per person. **BVPC tells us how much space one person has per residential living unit** (a house / apartment / etc.). It is ***a proxy measure of economic inequality and a direct measure of housing inequality***. \n",
    "\n",
    "BVPC builds on the work of [(Reddy, A and Leslie, T.F., 2013)](https://www.tandfonline.com/doi/abs/10.1080/02723638.2015.1060696?journalCode=rurb20) and attempts to integrate with several **[Sustainable Development Goals](https://sdgs.un.org/goals)** (most noteably: **[SDG 11: Developing sustainable cities and communities](https://sdgs.un.org/goals/goal11)**) and captures the average ***'living space'*** each person has in their home."
   ]
  },
  {
   "cell_type": "markdown",
   "metadata": {},
   "source": [
    "<div class=\"alert alert-block alert-info\"><b>These analysis expect the user to have some basic knowledge about the environment under inquiry / investigation</b> </div>"
   ]
  },
  {
   "cell_type": "code",
   "execution_count": 24,
   "metadata": {},
   "outputs": [
    {
     "data": {
      "text/html": [
       "<div>\n",
       "<style scoped>\n",
       "    .dataframe tbody tr th:only-of-type {\n",
       "        vertical-align: middle;\n",
       "    }\n",
       "\n",
       "    .dataframe tbody tr th {\n",
       "        vertical-align: top;\n",
       "    }\n",
       "\n",
       "    .dataframe thead th {\n",
       "        text-align: right;\n",
       "    }\n",
       "</style>\n",
       "<table border=\"1\" class=\"dataframe\">\n",
       "  <thead>\n",
       "    <tr style=\"text-align: right;\">\n",
       "      <th></th>\n",
       "      <th>height</th>\n",
       "      <th>plus_codes</th>\n",
       "      <th>id</th>\n",
       "      <th>tags</th>\n",
       "      <th>levels</th>\n",
       "      <th>building</th>\n",
       "      <th>building:use</th>\n",
       "      <th>address</th>\n",
       "      <th>building:flats</th>\n",
       "      <th>building:units</th>\n",
       "      <th>amenity</th>\n",
       "      <th>social_facility</th>\n",
       "      <th>residential</th>\n",
       "      <th>beds</th>\n",
       "      <th>rooms</th>\n",
       "      <th>geometry</th>\n",
       "      <th>fill_color</th>\n",
       "    </tr>\n",
       "  </thead>\n",
       "  <tbody>\n",
       "    <tr>\n",
       "      <th>0</th>\n",
       "      <td>4.1</td>\n",
       "      <td>4FRWFFVC+P79</td>\n",
       "      <td>328118446</td>\n",
       "      <td>{'osm_id': 328118446, 'building': 'yes', 'buil...</td>\n",
       "      <td>1.0</td>\n",
       "      <td>yes</td>\n",
       "      <td>None</td>\n",
       "      <td>None</td>\n",
       "      <td>None</td>\n",
       "      <td>None</td>\n",
       "      <td>None</td>\n",
       "      <td>None</td>\n",
       "      <td>None</td>\n",
       "      <td>None</td>\n",
       "      <td>None</td>\n",
       "      <td>POLYGON ((18.47060 -33.50579, 18.47070 -33.505...</td>\n",
       "      <td>[255, 255, 204]</td>\n",
       "    </tr>\n",
       "    <tr>\n",
       "      <th>1</th>\n",
       "      <td>6.9</td>\n",
       "      <td>4FRWFFVC+H9Q</td>\n",
       "      <td>328118447</td>\n",
       "      <td>{'osm_id': 328118447, 'building': 'church', 'b...</td>\n",
       "      <td>2.0</td>\n",
       "      <td>church</td>\n",
       "      <td>None</td>\n",
       "      <td>Kerk Street Mamre 7347 Cape Town</td>\n",
       "      <td>None</td>\n",
       "      <td>None</td>\n",
       "      <td>place_of_worship</td>\n",
       "      <td>None</td>\n",
       "      <td>None</td>\n",
       "      <td>None</td>\n",
       "      <td>None</td>\n",
       "      <td>POLYGON ((18.47092 -33.50592, 18.47093 -33.505...</td>\n",
       "      <td>[225, 225, 51]</td>\n",
       "    </tr>\n",
       "  </tbody>\n",
       "</table>\n",
       "</div>"
      ],
      "text/plain": [
       "   height  ...       fill_color\n",
       "0     4.1  ...  [255, 255, 204]\n",
       "1     6.9  ...   [225, 225, 51]\n",
       "\n",
       "[2 rows x 17 columns]"
      ]
     },
     "execution_count": 24,
     "metadata": {},
     "output_type": "execute_result"
    }
   ],
   "source": [
    "#-- lets have a look at the data we have\n",
    "df2.head(2)"
   ]
  },
  {
   "cell_type": "code",
   "execution_count": 25,
   "metadata": {},
   "outputs": [
    {
     "data": {
      "text/html": [
       "<div>\n",
       "<style scoped>\n",
       "    .dataframe tbody tr th:only-of-type {\n",
       "        vertical-align: middle;\n",
       "    }\n",
       "\n",
       "    .dataframe tbody tr th {\n",
       "        vertical-align: top;\n",
       "    }\n",
       "\n",
       "    .dataframe thead th {\n",
       "        text-align: right;\n",
       "    }\n",
       "</style>\n",
       "<table border=\"1\" class=\"dataframe\">\n",
       "  <thead>\n",
       "    <tr style=\"text-align: right;\">\n",
       "      <th></th>\n",
       "      <th>height</th>\n",
       "      <th>plus_codes</th>\n",
       "      <th>id</th>\n",
       "      <th>tags</th>\n",
       "      <th>levels</th>\n",
       "      <th>building</th>\n",
       "      <th>building:use</th>\n",
       "      <th>address</th>\n",
       "      <th>building:flats</th>\n",
       "      <th>building:units</th>\n",
       "      <th>amenity</th>\n",
       "      <th>social_facility</th>\n",
       "      <th>residential</th>\n",
       "      <th>beds</th>\n",
       "      <th>rooms</th>\n",
       "      <th>geometry</th>\n",
       "      <th>fill_color</th>\n",
       "    </tr>\n",
       "  </thead>\n",
       "  <tbody>\n",
       "    <tr>\n",
       "      <th>7</th>\n",
       "      <td>4.1</td>\n",
       "      <td>4FRWFFM9+X98</td>\n",
       "      <td>656840974</td>\n",
       "      <td>{'osm_id': 656840974, 'building': 'house', 'bu...</td>\n",
       "      <td>1.0</td>\n",
       "      <td>house</td>\n",
       "      <td>None</td>\n",
       "      <td>39 Dove Lane Mamre 7347 Cape Town</td>\n",
       "      <td>None</td>\n",
       "      <td>None</td>\n",
       "      <td>None</td>\n",
       "      <td>None</td>\n",
       "      <td>None</td>\n",
       "      <td>None</td>\n",
       "      <td>None</td>\n",
       "      <td>POLYGON ((18.46843 -33.51507, 18.46843 -33.515...</td>\n",
       "      <td>[255, 255, 204]</td>\n",
       "    </tr>\n",
       "    <tr>\n",
       "      <th>8</th>\n",
       "      <td>4.1</td>\n",
       "      <td>4FRWFFM9+X9X</td>\n",
       "      <td>656840975</td>\n",
       "      <td>{'osm_id': 656840975, 'building': 'house', 'bu...</td>\n",
       "      <td>1.0</td>\n",
       "      <td>house</td>\n",
       "      <td>None</td>\n",
       "      <td>37 Dove Lane Mamre 7347 Cape Town</td>\n",
       "      <td>None</td>\n",
       "      <td>None</td>\n",
       "      <td>None</td>\n",
       "      <td>None</td>\n",
       "      <td>None</td>\n",
       "      <td>None</td>\n",
       "      <td>None</td>\n",
       "      <td>POLYGON ((18.46844 -33.51499, 18.46843 -33.515...</td>\n",
       "      <td>[255, 255, 204]</td>\n",
       "    </tr>\n",
       "  </tbody>\n",
       "</table>\n",
       "</div>"
      ],
      "text/plain": [
       "   height  ...       fill_color\n",
       "7     4.1  ...  [255, 255, 204]\n",
       "8     4.1  ...  [255, 255, 204]\n",
       "\n",
       "[2 rows x 17 columns]"
      ]
     },
     "execution_count": 25,
     "metadata": {},
     "output_type": "execute_result"
    }
   ],
   "source": [
    "#--we only want building=house or =apartment or =residential\n",
    "gdf = df2[df2[\"building\"].isin(['house', 'semidetached_house', 'terrace', 'apartments', 'residential', 'dormitory', 'cabin'])].copy()\n",
    "gdf.head(2)"
   ]
  },
  {
   "cell_type": "markdown",
   "metadata": {},
   "source": [
    "<a id='Section2a'></a>"
   ]
  },
  {
   "cell_type": "markdown",
   "metadata": {},
   "source": [
    "<div class=\"alert alert-block alert-success\"><b>1.  a) Estimate Population:</b> \n",
    "    \n",
    "_(with population growth rate and population projection possible too)_ </div>"
   ]
  },
  {
   "cell_type": "code",
   "execution_count": 26,
   "metadata": {},
   "outputs": [
    {
     "name": "stdout",
     "output_type": "stream",
     "text": [
      "1870\n"
     ]
    }
   ],
   "source": [
    "#- some data wrangling to replace 'bld:residential' to 'bld:student' if 'residential:student'\n",
    "gdf2 = gdf.copy()\n",
    "df_res = gdf2[gdf2['residential'] == 'student']\n",
    "#df_res = df2[df2['building:use'] != None]\n",
    "df_res = df_res[~df_res['residential'].isna()]\n",
    "gdf2.loc[df_res.index, 'building'] = df_res['residential'] \n",
    "\n",
    "#- some more data wrangling\n",
    "with pd.option_context(\"future.no_silent_downcasting\", True):\n",
    "    #gdf2['levels'] = pd.to_numeric(gdf2['levels'].infer_objects(copy=False))\n",
    "    #if gdf['flats'] != None:\n",
    "    gdf2['building:flats'] = pd.to_numeric(gdf2['building:flats'].fillna(0).infer_objects(copy=False))\n",
    "    gdf2['building:units'] = pd.to_numeric(gdf2['building:units'].fillna(0).infer_objects(copy=False))\n",
    "    gdf2['beds'] = pd.to_numeric(gdf2['beds'].fillna(0).infer_objects(copy=False))\n",
    "    gdf2['rooms'] = pd.to_numeric(gdf2['rooms'].fillna(0).infer_objects(copy=False))\n",
    "\n",
    "print(len(gdf))"
   ]
  },
  {
   "cell_type": "code",
   "execution_count": 27,
   "metadata": {},
   "outputs": [],
   "source": [
    "#y = gdf2[gdf2['building'] == 'residential']\n",
    "#y"
   ]
  },
  {
   "cell_type": "code",
   "execution_count": 28,
   "metadata": {},
   "outputs": [
    {
     "data": {
      "text/html": [
       "<div>\n",
       "<style scoped>\n",
       "    .dataframe tbody tr th:only-of-type {\n",
       "        vertical-align: middle;\n",
       "    }\n",
       "\n",
       "    .dataframe tbody tr th {\n",
       "        vertical-align: top;\n",
       "    }\n",
       "\n",
       "    .dataframe thead th {\n",
       "        text-align: right;\n",
       "    }\n",
       "</style>\n",
       "<table border=\"1\" class=\"dataframe\">\n",
       "  <thead>\n",
       "    <tr style=\"text-align: right;\">\n",
       "      <th></th>\n",
       "      <th>height</th>\n",
       "      <th>plus_codes</th>\n",
       "      <th>id</th>\n",
       "      <th>tags</th>\n",
       "      <th>levels</th>\n",
       "      <th>building</th>\n",
       "      <th>building:use</th>\n",
       "      <th>address</th>\n",
       "      <th>building:flats</th>\n",
       "      <th>building:units</th>\n",
       "      <th>amenity</th>\n",
       "      <th>social_facility</th>\n",
       "      <th>residential</th>\n",
       "      <th>beds</th>\n",
       "      <th>rooms</th>\n",
       "      <th>geometry</th>\n",
       "      <th>fill_color</th>\n",
       "    </tr>\n",
       "  </thead>\n",
       "  <tbody>\n",
       "    <tr>\n",
       "      <th>7</th>\n",
       "      <td>4.1</td>\n",
       "      <td>4FRWFFM9+X98</td>\n",
       "      <td>656840974</td>\n",
       "      <td>{'osm_id': 656840974, 'building': 'house', 'bu...</td>\n",
       "      <td>1.0</td>\n",
       "      <td>house</td>\n",
       "      <td>None</td>\n",
       "      <td>39 Dove Lane Mamre 7347 Cape Town</td>\n",
       "      <td>0</td>\n",
       "      <td>0</td>\n",
       "      <td>None</td>\n",
       "      <td>None</td>\n",
       "      <td>None</td>\n",
       "      <td>0</td>\n",
       "      <td>0</td>\n",
       "      <td>POLYGON ((18.46843 -33.51507, 18.46843 -33.515...</td>\n",
       "      <td>[255, 255, 204]</td>\n",
       "    </tr>\n",
       "    <tr>\n",
       "      <th>8</th>\n",
       "      <td>4.1</td>\n",
       "      <td>4FRWFFM9+X9X</td>\n",
       "      <td>656840975</td>\n",
       "      <td>{'osm_id': 656840975, 'building': 'house', 'bu...</td>\n",
       "      <td>1.0</td>\n",
       "      <td>house</td>\n",
       "      <td>None</td>\n",
       "      <td>37 Dove Lane Mamre 7347 Cape Town</td>\n",
       "      <td>0</td>\n",
       "      <td>0</td>\n",
       "      <td>None</td>\n",
       "      <td>None</td>\n",
       "      <td>None</td>\n",
       "      <td>0</td>\n",
       "      <td>0</td>\n",
       "      <td>POLYGON ((18.46844 -33.51499, 18.46843 -33.515...</td>\n",
       "      <td>[255, 255, 204]</td>\n",
       "    </tr>\n",
       "  </tbody>\n",
       "</table>\n",
       "</div>"
      ],
      "text/plain": [
       "   height  ...       fill_color\n",
       "7     4.1  ...  [255, 255, 204]\n",
       "8     4.1  ...  [255, 255, 204]\n",
       "\n",
       "[2 rows x 17 columns]"
      ]
     },
     "execution_count": 28,
     "metadata": {},
     "output_type": "execute_result"
    }
   ],
   "source": [
    "gdf2.head(2)"
   ]
  },
  {
   "cell_type": "code",
   "execution_count": 29,
   "metadata": {},
   "outputs": [
    {
     "data": {
      "text/plain": [
       "building\n",
       "house    1628\n",
       "cabin     242\n",
       "Name: count, dtype: int64"
      ]
     },
     "execution_count": 29,
     "metadata": {},
     "output_type": "execute_result"
    }
   ],
   "source": [
    "#len(gdf2)\n",
    "#gdf2.levels.unique()\n",
    "#df = gdf2[gdf2['bld'].str.contains('student')] \n",
    "#df.levels.dtype\n",
    "gdf2['building'].value_counts()"
   ]
  },
  {
   "cell_type": "markdown",
   "metadata": {},
   "source": [
    "**This area is urban with single level housing units. To estimate population is thus pretty straight forward.**\n",
    "\n",
    "<div class=\"alert alert-block alert-info\"><b>We start with local knowledge.</b></div>\n",
    "\n",
    "**On average there are roughly `6` people per `building:house` in this area.**  \n",
    "\n",
    "An ***informal*** structure ([shack](https://en.wikipedia.org/wiki/Shack)) is tagged [building:cabin](https://wiki.openstreetmap.org/wiki/Tag:building%3Dcabin) and houses `4` people."
   ]
  },
  {
   "cell_type": "markdown",
   "metadata": {},
   "source": [
    "<div class=\"alert alert-block alert-danger\"><b>Your Participation! </b>\n",
    "    \n",
    "We will execute the calculation programmatically. **Fill in the relevant variables in the _`cell`_ below** </div>"
   ]
  },
  {
   "cell_type": "code",
   "execution_count": 30,
   "metadata": {},
   "outputs": [],
   "source": [
    "#- average number of residents per formal house\n",
    "f_house = 6\n",
    "#- average number of residents per informal structure\n",
    "inf_structure = 4"
   ]
  },
  {
   "cell_type": "markdown",
   "metadata": {},
   "source": [
    "<div class=\"alert alert-block alert-warning\"><b></b>  \n",
    "    \n",
    "**Furthermore:**  \n",
    "    - **[social housing](https://en.wikipedia.org/wiki/Public_housing)** is tagged `building:residential` with the number of occupants iether *the number of informal structure occupants* or `building:flats * inf_structure`  \n",
    "    - A `social_facility` (carehome, shelter, etc.) harvests the `beds` *'key:value'* pair.  \n",
    "    - `building:apartments` harvests the `building:flats` *'key:value'* pair *(the number of units)* to calculate `*3` people per apartment.  \n",
    "    - ***Student accomodation***:  \n",
    ">    - University owed: is tagged `building:dormitory` with `residential:university` and harvests the `beds` *'key:value'* pair.\n",
    ">    - Private for-profit: is tagged `building:residential` or `:dormitory` with `residential:student` and then harvests the `building:flats` or `:rooms` *'key:value'* pair *(the number of units)* to calculate `*1` people per apartment; if `level: > 1` else `*3` people in a house share.\n",
    "    \n",
    "**The tagging scheme and numbers is based on *how your community is mapped* and local knowledge**\n",
    "</div>"
   ]
  },
  {
   "cell_type": "code",
   "execution_count": 31,
   "metadata": {},
   "outputs": [
    {
     "name": "stdout",
     "output_type": "stream",
     "text": [
      "The estimated population is: 10736\n"
     ]
    }
   ],
   "source": [
    "c = gdf2.columns\n",
    "\n",
    "def pop(row):\n",
    "    #- formal house\n",
    "    if row['building'] == 'house' or row['building'] == 'semidetached_house':\n",
    "        return f_house\n",
    "    if row['building'] == 'terrace':\n",
    "        return row['building:units'] * f_house\n",
    "\n",
    "    #- informal structure (shack)\n",
    "    if row['building'] == 'cabin':\n",
    "        return inf_structure\n",
    "        \n",
    "    #- in this case social housing\n",
    "    if row['building'] == 'residential' and row['social_facility'] == None:# or row['building:use'] == 'residential':\n",
    "        if row['levels'] > 1 and row['rooms'] != 0:\n",
    "            return row['rooms']\n",
    "        if row['levels'] > 1 and row['rooms'] == 0:\n",
    "            return row['building:flats'] * inf_structure\n",
    "        else:\n",
    "            return inf_structure\n",
    "\n",
    "    #-- social facility [shelter / carehome]\n",
    "    if row['building'] == 'residential' and row['social_facility'] != None:\n",
    "        if row['levels'] > 1:\n",
    "            if row['building:units'] != 0:\n",
    "                return row['building:units'] * inf_structure\n",
    "            else: \n",
    "                return row['beds']\n",
    "        else:\n",
    "            return inf_structure\n",
    "            \n",
    "    #- formal apartment\n",
    "    if row['building'] == 'apartments':\n",
    "        if row['rooms'] != 0:\n",
    "            return row['rooms']\n",
    "        else:\n",
    "            return int(row['building:flats']) * 3\n",
    "        \n",
    "    #- private student residence\n",
    "    if row['building'] == 'student': \n",
    "        if row['levels'] > 1:\n",
    "            if row['rooms'] != 0:\n",
    "                return row['rooms']\n",
    "            else:\n",
    "                return row['building:flats']\n",
    "        else:\n",
    "            return 3\n",
    "    # university owned student residence\n",
    "    if row['building'] == 'dormitory' and row['residential'] == 'university':\n",
    "        if row['levels'] > 1:\n",
    "            if row['rooms'] != 0:\n",
    "                return row['rooms']\n",
    "            if row['beds'] != 0:\n",
    "                return row['beds']\n",
    "        else:\n",
    "            return 3\n",
    "\n",
    "gdf2['pop'] = gdf2.apply(lambda x: pop(x), axis=1)\n",
    "\n",
    "est_pop = gdf2['pop'].sum()\n",
    "print('The estimated population is:', est_pop)"
   ]
  },
  {
   "cell_type": "markdown",
   "metadata": {},
   "source": [
    "**The official [STATSSA 2011 census figure](https://www.statssa.gov.za/?page_id=4286&id=291), for this community, is 9048.**\n",
    "\n",
    "We can calculate the annual population growth rate using the formula for **[Annual population growth](https://databank.worldbank.org/metadataglossary/health-nutrition-and-population-statistics/series/SP.POP.GROW):**\n",
    "\n",
    "$$r = \\frac{\\ln{[\\frac{End Population}{Start Population}}]}{n} * 100 = \\frac{\\ln{[\\frac{10 736}{9048}}]}{12} * 100   = 1.43\\%$$"
   ]
  },
  {
   "cell_type": "markdown",
   "metadata": {},
   "source": [
    "<div class=\"alert alert-block alert-danger\"><b>Your Participation! </b>\n",
    "    \n",
    "\n",
    "It is possible to execute the calculation programmatically. **Fill in the relevant variables in the _`cell`_ below** </div>"
   ]
  },
  {
   "cell_type": "code",
   "execution_count": 32,
   "metadata": {},
   "outputs": [],
   "source": [
    "#- previous population\n",
    "start_population = 9048 #6577#\n",
    "\n",
    "#- period in years from the previous census\n",
    "years = 12"
   ]
  },
  {
   "cell_type": "code",
   "execution_count": 33,
   "metadata": {},
   "outputs": [
    {
     "name": "stdout",
     "output_type": "stream",
     "text": [
      "population growth rate of approximately: 1.43 %\n"
     ]
    }
   ],
   "source": [
    "#-execute\n",
    "r = (np.log(est_pop/start_population)/years) * 100\n",
    "print('population growth rate of approximately:', round(r, 2), '%')"
   ]
  },
  {
   "cell_type": "markdown",
   "metadata": {},
   "source": [
    "To conclude; we can project into the future with a very basic formula to estimate the population _x_-years from now:  \n",
    "\n",
    "$$p  = P_o * (1 + r)^{t} = p = 10736 * (1 + 0.0143)^{10}  = 12 368$$"
   ]
  },
  {
   "cell_type": "markdown",
   "metadata": {},
   "source": [
    "<div class=\"alert alert-block alert-danger\"><b>Your Participation! </b>\n",
    "    \n",
    "It is possible to execute the calculation programmatically. **Fill in the variables in the _`cell`_ below** </div>"
   ]
  },
  {
   "cell_type": "code",
   "execution_count": 34,
   "metadata": {},
   "outputs": [],
   "source": [
    "#- period in years from now\n",
    "years = 10"
   ]
  },
  {
   "cell_type": "code",
   "execution_count": 35,
   "metadata": {
    "scrolled": true
   },
   "outputs": [
    {
     "name": "stdout",
     "output_type": "stream",
     "text": [
      "estimated population 10 years from now: 12368\n"
     ]
    }
   ],
   "source": [
    "p = est_pop * (1 + (r/100))**years\n",
    "\n",
    "print('estimated population', years ,'years from now:', int(p))"
   ]
  },
  {
   "cell_type": "markdown",
   "metadata": {},
   "source": [
    "<a id='Section2b'></a>"
   ]
  },
  {
   "cell_type": "markdown",
   "metadata": {},
   "source": [
    "<div class=\"alert alert-block alert-success\"><b>2. ii) Building Volume Per Capita (BVPC):</b></div>"
   ]
  },
  {
   "cell_type": "markdown",
   "metadata": {},
   "source": [
    "**We first need to check the quality** *---topology---* **of the dataset**"
   ]
  },
  {
   "cell_type": "code",
   "execution_count": 36,
   "metadata": {},
   "outputs": [
    {
     "data": {
      "text/plain": [
       "<Geographic 2D CRS: EPSG:4326>\n",
       "Name: WGS 84\n",
       "Axis Info [ellipsoidal]:\n",
       "- Lat[north]: Geodetic latitude (degree)\n",
       "- Lon[east]: Geodetic longitude (degree)\n",
       "Area of Use:\n",
       "- name: World.\n",
       "- bounds: (-180.0, -90.0, 180.0, 90.0)\n",
       "Datum: World Geodetic System 1984 ensemble\n",
       "- Ellipsoid: WGS 84\n",
       "- Prime Meridian: Greenwich"
      ]
     },
     "execution_count": 36,
     "metadata": {},
     "output_type": "execute_result"
    }
   ],
   "source": [
    "gdf2.crs"
   ]
  },
  {
   "attachments": {},
   "cell_type": "markdown",
   "metadata": {},
   "source": [
    "<img src=\"data/proj.png\" alt=\"proj\" width=\"550\" align=\"right\"/>\n",
    "\n",
    "<br>\n",
    "<br>\n",
    "\n",
    "**We also need [BVPC](https://www.researchgate.net/publication/343185735_Building_Volume_Per_Capita_BVPC_A_Spatially_Explicit_Measure_of_Inequality_Relevant_to_the_SDGs) in a cubic meter but our data is in Decimal Degrees.**  \n",
    "\n",
    "We need to convert coordinates from a ***Geographic*** to a local ***Projected*** system.  "
   ]
  },
  {
   "cell_type": "markdown",
   "metadata": {},
   "source": [
    "<div class=\"alert alert-block alert-info\"><b>To keep this extremely generic (use anywhere) we go with WGS84 / Universal Transverse Mercator (UTM).</b></div>"
   ]
  },
  {
   "cell_type": "code",
   "execution_count": 37,
   "metadata": {},
   "outputs": [
    {
     "data": {
      "text/plain": [
       "<Projected CRS: EPSG:32734>\n",
       "Name: WGS 84 / UTM zone 34S\n",
       "Axis Info [cartesian]:\n",
       "- E[east]: Easting (metre)\n",
       "- N[north]: Northing (metre)\n",
       "Area of Use:\n",
       "- name: Between 18°E and 24°E, southern hemisphere between 80°S and equator, onshore and offshore. Angola. Botswana. Democratic Republic of the Congo (Zaire). Namibia. South Africa. Zambia.\n",
       "- bounds: (18.0, -80.0, 24.0, 0.0)\n",
       "Coordinate Operation:\n",
       "- name: UTM zone 34S\n",
       "- method: Transverse Mercator\n",
       "Datum: World Geodetic System 1984 ensemble\n",
       "- Ellipsoid: WGS 84\n",
       "- Prime Meridian: Greenwich"
      ]
     },
     "execution_count": 37,
     "metadata": {},
     "output_type": "execute_result"
    }
   ],
   "source": [
    "#- internal geopandas function\n",
    "gdf2.estimate_utm_crs()  "
   ]
  },
  {
   "cell_type": "markdown",
   "metadata": {},
   "source": [
    "<div class=\"alert alert-block alert-danger\"><b>Your Participation! </b>\n",
    "    \n",
    "**Fill in the proper `epsg` in the _`cell`_ below** \n",
    "</div>"
   ]
  },
  {
   "cell_type": "code",
   "execution_count": 38,
   "metadata": {},
   "outputs": [],
   "source": [
    "#- first line above: <Projected CRS: EPSG:xxxxx>\n",
    "epsg = 32734"
   ]
  },
  {
   "cell_type": "code",
   "execution_count": 39,
   "metadata": {},
   "outputs": [],
   "source": [
    "#- highlight crossing features (buildings). more buildings = more time\n",
    "gdf2 = gdf2.to_crs(epsg)\n",
    "\n",
    "gdf_copy = gdf2.copy()\n",
    "new_df1 = gdf_copy.loc[gdf_copy.overlaps(gdf_copy.unary_union)].reset_index(drop=True)  #-- perhaps no union?\n",
    "gdf_copy.drop(gdf_copy.index[gdf_copy['building'] == 'bridge'], inplace = True)\n",
    "gdf_copy.drop(gdf_copy.index[gdf_copy['building'] == 'roof'], inplace = True)"
   ]
  },
  {
   "cell_type": "markdown",
   "metadata": {},
   "source": [
    "**Plot**\n",
    "\n",
    "*Browse the saved `'./data/topologyFig'` at your leisure*"
   ]
  },
  {
   "cell_type": "code",
   "execution_count": 40,
   "metadata": {},
   "outputs": [
    {
     "data": {
      "image/png": "[encoded data removed]",
      "text/plain": [
       "<Figure size 792x792 with 1 Axes>"
      ]
     },
     "metadata": {},
     "output_type": "display_data"
    }
   ],
   "source": [
    "#-plot\n",
    "fig, ax = plt.subplots(figsize=(11, 11))\n",
    "\n",
    "gdf_copy.plot(ax=ax, facecolor='none', edgecolor='purple', alpha=0.2)\n",
    "if len(new_df1) > 0:\n",
    "    new_df1.plot(ax=ax, edgecolor='red', facecolor='none')#, alpha=0.3)#, column='osm_building', legend=True)\n",
    "\n",
    "#-- save\n",
    "plt.savefig('./data/topologyFig', dpi=300)\n",
    "#plt.show()"
   ]
  },
  {
   "attachments": {
    "cput-error.png": {
     "image/png": "[encoded data removed]"
    },
    "cput.png": {
     "image/png": "[encoded data removed]"
    }
   },
   "cell_type": "markdown",
   "metadata": {},
   "source": [
    "|  |  |\n",
    "|:--------:|:--------:|\n",
    "| ![cput-error.png](attachment:cput-error.png)| **Challenges will be highlight in *'Red'***|\n",
    "| ![cput.png](attachment:cput.png)| **or none**|"
   ]
  },
  {
   "cell_type": "markdown",
   "metadata": {},
   "source": [
    "<h2><center> If you continue without fixing the challenges, the BVPC value will not be true.  <br /><br /> Our goal is to be as representative as possible. </center></h2>\n",
    "\n",
    "**If necessary; edit [OpenStreetMap](https://www.openstreetmap.org/about) and fix the challenge please.** \n",
    "\n",
    "<div class=\"alert alert-block alert-warning\"><b>  </b> \n",
    "\n",
    "And remember to give the OpenStreetMap server at least a day before attempting the process again.\n",
    "    \n",
    "**Alchemy is a process. Please be patient.**\n",
    "</div>"
   ]
  },
  {
   "cell_type": "markdown",
   "metadata": {},
   "source": [
    "<div class=\"alert alert-block alert-success\"><b>BVPC = total population of a community divided by sum of building volume</b></div>"
   ]
  },
  {
   "cell_type": "code",
   "execution_count": 41,
   "metadata": {},
   "outputs": [
    {
     "data": {
      "text/html": [
       "<div>\n",
       "<style scoped>\n",
       "    .dataframe tbody tr th:only-of-type {\n",
       "        vertical-align: middle;\n",
       "    }\n",
       "\n",
       "    .dataframe tbody tr th {\n",
       "        vertical-align: top;\n",
       "    }\n",
       "\n",
       "    .dataframe thead th {\n",
       "        text-align: right;\n",
       "    }\n",
       "</style>\n",
       "<table border=\"1\" class=\"dataframe\">\n",
       "  <thead>\n",
       "    <tr style=\"text-align: right;\">\n",
       "      <th></th>\n",
       "      <th>height</th>\n",
       "      <th>plus_codes</th>\n",
       "      <th>id</th>\n",
       "      <th>tags</th>\n",
       "      <th>levels</th>\n",
       "      <th>building</th>\n",
       "      <th>building:use</th>\n",
       "      <th>address</th>\n",
       "      <th>building:flats</th>\n",
       "      <th>building:units</th>\n",
       "      <th>amenity</th>\n",
       "      <th>social_facility</th>\n",
       "      <th>residential</th>\n",
       "      <th>beds</th>\n",
       "      <th>rooms</th>\n",
       "      <th>geometry</th>\n",
       "      <th>fill_color</th>\n",
       "      <th>pop</th>\n",
       "      <th>area</th>\n",
       "      <th>volume</th>\n",
       "      <th>bvpc</th>\n",
       "    </tr>\n",
       "  </thead>\n",
       "  <tbody>\n",
       "    <tr>\n",
       "      <th>2185</th>\n",
       "      <td>4.1</td>\n",
       "      <td>4FRWFFMF+W7J</td>\n",
       "      <td>12289266</td>\n",
       "      <td>{'osm_id': 12289266, 'building': 'house', 'bui...</td>\n",
       "      <td>1.0</td>\n",
       "      <td>house</td>\n",
       "      <td>None</td>\n",
       "      <td>22 Clarkeson Street Mamre 7347 Cape Town</td>\n",
       "      <td>0</td>\n",
       "      <td>0</td>\n",
       "      <td>None</td>\n",
       "      <td>None</td>\n",
       "      <td>None</td>\n",
       "      <td>0</td>\n",
       "      <td>0</td>\n",
       "      <td>POLYGON ((265305.077 6288750.422, 265302.872 6...</td>\n",
       "      <td>[255, 255, 204]</td>\n",
       "      <td>6</td>\n",
       "      <td>344.679759</td>\n",
       "      <td>1413.187012</td>\n",
       "      <td>235.531169</td>\n",
       "    </tr>\n",
       "    <tr>\n",
       "      <th>2186</th>\n",
       "      <td>4.1</td>\n",
       "      <td>4FRWFFPJ+P7W</td>\n",
       "      <td>12357148</td>\n",
       "      <td>{'osm_id': 12357148, 'building': 'house', 'bui...</td>\n",
       "      <td>1.0</td>\n",
       "      <td>house</td>\n",
       "      <td>None</td>\n",
       "      <td>2 Tol Street Mamre 7347 Cape Town</td>\n",
       "      <td>0</td>\n",
       "      <td>0</td>\n",
       "      <td>None</td>\n",
       "      <td>None</td>\n",
       "      <td>None</td>\n",
       "      <td>0</td>\n",
       "      <td>0</td>\n",
       "      <td>POLYGON ((266000.758 6288992.653, 265989.649 6...</td>\n",
       "      <td>[255, 255, 204]</td>\n",
       "      <td>6</td>\n",
       "      <td>327.808101</td>\n",
       "      <td>1344.013215</td>\n",
       "      <td>224.002202</td>\n",
       "    </tr>\n",
       "  </tbody>\n",
       "</table>\n",
       "</div>"
      ],
      "text/plain": [
       "      height    plus_codes        id  ...        area       volume        bvpc\n",
       "2185     4.1  4FRWFFMF+W7J  12289266  ...  344.679759  1413.187012  235.531169\n",
       "2186     4.1  4FRWFFPJ+P7W  12357148  ...  327.808101  1344.013215  224.002202\n",
       "\n",
       "[2 rows x 21 columns]"
      ]
     },
     "execution_count": 41,
     "metadata": {},
     "output_type": "execute_result"
    }
   ],
   "source": [
    "#- area and volume\n",
    "gdf2['area'] = gdf2['geometry'].area\n",
    "gdf2['volume'] = gdf2['area'] * gdf2['height']\n",
    "\n",
    "#- remove the volume of the ground floor (unoccupied) when building:levels > 7 [this is an arbitrary number based on local knowledge]\n",
    "#- typically this space is reserved for some other function: retail, etc. \n",
    "gdf2['volume'] = [\n",
    "    (row['volume'] - row['area'] * 2.8) if (\n",
    "        row['social_facility'] is None and row['levels'] > 7 and \n",
    "        row['building'] in ['residential', 'apartments', 'student']\n",
    "    ) else row['volume']\n",
    "    for _, row in gdf2.iterrows()\n",
    "]\n",
    " \n",
    "gdf2['bvpc'] =  gdf2['volume'] / gdf2['pop'] \n",
    "\n",
    "gdf2.tail(2)"
   ]
  },
  {
   "cell_type": "code",
   "execution_count": 42,
   "metadata": {},
   "outputs": [
    {
     "name": "stdout",
     "output_type": "stream",
     "text": [
      "count    1870.000000\n",
      "mean       77.899357\n",
      "std        50.542538\n",
      "min        11.821442\n",
      "25%        37.163535\n",
      "50%        68.396996\n",
      "75%       104.641182\n",
      "max       400.204480\n",
      "Name: bvpc, dtype: float64\n"
     ]
    }
   ],
   "source": [
    "print(gdf2['bvpc'].describe())"
   ]
  },
  {
   "cell_type": "code",
   "execution_count": 43,
   "metadata": {},
   "outputs": [
    {
     "name": "stdout",
     "output_type": "stream",
     "text": [
      "Building Volume Per Capita (BVPC): 79.493\n"
     ]
    }
   ],
   "source": [
    "bvpc = round(gdf2['volume'].sum() / est_pop, 3)\n",
    "\n",
    "print('Building Volume Per Capita (BVPC):', bvpc)"
   ]
  },
  {
   "cell_type": "markdown",
   "metadata": {},
   "source": [
    "<div class=\"alert alert-block alert-info\"><b></b>\n",
    "\n",
    "**This BVPC value is general.**  \n",
    "\n",
    "We can seperate `building:house` from `building:cabin` and `building:residential` to undertand the differences between ***formal and informal*** housing in this area.\n",
    "    \n",
    "**We want to understand the living space *(the cubic-meter BVPC value)* each person has in thier home**\n",
    "</div>"
   ]
  },
  {
   "cell_type": "code",
   "execution_count": 44,
   "metadata": {},
   "outputs": [
    {
     "name": "stdout",
     "output_type": "stream",
     "text": [
      "FORMAL: Population:  9768  with Building Volume Per Capita (BVPC): 83.153\n",
      "\n",
      "STUDENT RESIDENCE: Population:  0  with Building Volume Per Capita (BVPC): 0\n",
      "\n",
      "INFORMAL: Population:  968  with Building Volume Per Capita (BVPC) 42.558\n"
     ]
    }
   ],
   "source": [
    "formal = gdf2[gdf2[\"building\"].isin(['house', 'semidetached_house', 'terrace', 'apartment'])].copy()\n",
    "f_pop = formal['pop'].sum()\n",
    "#f_area = formal['area'].mean()\n",
    "\n",
    "informal = gdf2[gdf2[\"building\"].isin(['residential', 'cabin'])].copy()\n",
    "inf_pop = informal['pop'].sum()\n",
    "#inf_area = formal['area'].mean()\n",
    "\n",
    "#- student\n",
    "stu = gdf2[gdf2[\"building\"].isin(['student', 'dormitory'])].copy()\n",
    "stu_pop = stu['pop'].sum()\n",
    "\n",
    "#bvpc_formal = round(formal['volume'].sum() / est_pop, 3)\n",
    "#bvpc_informal = round(informal['volume'].sum() / est_pop, 3)\n",
    "#bvpc_stu = round(stu['volume'].sum() / est_pop if est_pop != 0 else 0, 3)\n",
    "\n",
    "bvpc_formal = round(formal['volume'].sum() / formal['pop'].sum() if formal['pop'].sum() != 0 else 0, 3)\n",
    "bvpc_informal = round(informal['volume'].sum() / informal['pop'].sum() if informal['pop'].sum() != 0 else 0, 3)\n",
    "bvpc_stu = round(stu['volume'].sum() / stu['pop'].sum() if stu['pop'].sum() != 0 else 0, 3)\n",
    "\n",
    "print('FORMAL: Population: ', f_pop, ' with Building Volume Per Capita (BVPC):', bvpc_formal)\n",
    "print('')\n",
    "print('STUDENT RESIDENCE: Population: ', stu_pop, ' with Building Volume Per Capita (BVPC):', bvpc_stu)\n",
    "print('')\n",
    "print('INFORMAL: Population: ', inf_pop, ' with Building Volume Per Capita (BVPC)', bvpc_informal)"
   ]
  },
  {
   "cell_type": "code",
   "execution_count": 45,
   "metadata": {},
   "outputs": [],
   "source": [
    "#stu"
   ]
  },
  {
   "cell_type": "markdown",
   "metadata": {},
   "source": [
    "<div class=\"alert alert-block alert-danger\"><b>Warning: </b>\n",
    "    \n",
    "\n",
    "These are LoD1 3D City Models and works well in these types of areas.  \n",
    "LoD2 would offer a more representative BVpC [(Ghosh, T; et al. 2020)](https://www.researchgate.net/publication/343185735_Building_Volume_Per_Capita_BVPC_A_Spatially_Explicit_Measure_of_Inequality_Relevant_to_the_SDGs) value; when the complexity of the built environment increases.  \n",
    "\n",
    "Think about a `house` with living space in the roof structure, so called *'attic living'*, or an `apartment` / `residential` building with different levels, loft apartments and/or units in the turrets of a building. \n",
    "\n",
    "***consider***: this area seperates [building:cabin](https://wiki.openstreetmap.org/wiki/Tag:building%3Dcabin) from `building:residential` to more precisely represent informal structures without typical roof trussess but account for [social housing](https://en.wikipedia.org/wiki/Public_housing) that does</div>"
   ]
  },
  {
   "cell_type": "markdown",
   "metadata": {},
   "source": [
    "***\n",
    "\n",
    "<div class=\"alert alert-block alert-warning\"><b>  </b>  \n",
    "    \n",
    "**To understand the performance in an [Urban setting](https://en.wikipedia.org/wiki/Urban_area) change `cell [2]` above:**\n",
    "\n",
    "<span style=\"color:black\">**focus**</span> = <span style=\"color:Darkred\">['University Estate'](https://en.wikipedia.org/wiki/University_Estate)</span> <span style=\"color:black\">or</span> <span style=\"color:Darkred\">['Salt River'](https://en.wikipedia.org/wiki/Salt_River,_Cape_Town)</span> <span style=\"color:black\">or</span> <span style=\"color:Darkred\">['Observatory'](https://en.wikipedia.org/wiki/Observatory,_Cape_Town)</span> <span style=\"color:black\">*(with residents per formal house = 4 and residents per informal structure = 3)*</span> <span style=\"color:black\">and</span>  <span style=\"color:Darkred\">'Cape Peninsula University of Technology (Bellville Campus)'</span>       \n",
    "<span style=\"color:black\">**osm_type**</span> = <span style=\"color:Darkred\">'relation'</span> <span style=\"color:black\">with</span> <span style=\"color:Darkred\">CPUT (Bellville Campus)</span>  <span style=\"color:black\">as</span> <span style=\"color:Darkred\">'way'</span>\n",
    "\n",
    "</div>\n",
    "\n",
    "***\n",
    "\n",
    "**Now you do your community.** ~ If your area needs [OpenStreetMap](https://en.wikipedia.org/wiki/OpenStreetMap) data and you want to contribute please follow the [Guide](https://wiki.openstreetmap.org/wiki/Beginners%27_guide)."
   ]
  },
  {
   "cell_type": "markdown",
   "metadata": {},
   "source": [
    "<a id='Section3'></a>"
   ]
  },
  {
   "cell_type": "markdown",
   "metadata": {},
   "source": [
    "<div class=\"alert alert-block alert-success\"><b>3. Possible Secondary and Tertiary level conversations starters:</b></div>"
   ]
  },
  {
   "cell_type": "markdown",
   "metadata": {},
   "source": [
    "| **Topic**                                | **Secondary Level Questions**                                                                                                                                                                                   | **Tertiary Level Questions**                                                                                                                                                                                                                   |\n",
    "|------------------------------------------|-----------------------------------------------------------------------------------------------------------------------------------------------------------------------------------------------------------------|--------------------------------------------------------------------------------------------------------------------------------------------------------------------------------------------------------------------------------------------------|\n",
    "| **Geography** | - Talk about the main difference between a globe and a map, and why we use map projections to represent the Earth on a flat surface<br>- Explain why different map projections are used for different purposes. For example, why might a Mercator projection be useful for navigation, but not for comparing the sizes of countries? | - Discuss why it is necessary to convert geographic coordinates (latitude and longitude) to a projected coordinate system in the context of the geospatial sciences. What are some potential issues if this conversion is not done? <br>- How does geodesy contribute to the geospatial sciences?|\n",
    "| **Basic Understanding and Observations** | - What types of buildings are most common in the area (houses, apartments, retail, etc.)?<br>- Can you identify any patterns in the distribution of different types of buildings (e.g., are retail stores concentrated in certain areas)? | - How does the building stock composition (e.g., ratio of houses) correlate with the population? *demographics (e.g., age distribution, household size) for the area will strengthen the analysis!* <br>- Analyze the relationship between building density and population. What urban planning theories can explain this relationship? |\n",
    "| **Spatial Relationships and Impacts**    | - How does the location of residential areas compare to the location of retail and commercial areas?<br>- What impact might the density and distribution of buildings have on local traffic and transportation?<br>- How might the population distribution affect the demand for local services such as schools, hospitals, and parks? | - Evaluate the accessibility of essential services (e.g., healthcare, education) in relation to the population and building types.<br>- Assess the potential social and economic impacts of a proposed new residential or commercial development in the area.                  |\n",
    "| **Socioeconomic and Environmental Considerations** | - Are there any correlations between the types of housing available and the household size? *additional demographics (e.g., income level) for the area will strengthen the analysis!*<br>- How might the current building stock and population influence the local economy? *demographics (e.g., age distribution, household size) for the area will strengthen the analysis!*<br>- What are some potential environmental impacts of the current building distribution, such as green space availability or pollution levels? | - How does the current building stock support or hinder sustainable development goals (e.g., energy efficiency, reduced carbon footprint)?<br>- What strategies could be implemented to increase the resilience of the community to environmental or economic changes?                       |\n",
    "| **Future Planning and Development**      | - Based on the current building stock and population metrics, what areas might benefit from additional housing or commercial development?<br>- How could urban planners use this information to improve the quality of life in the area?<br>- What changes would you recommend to better balance residential, commercial, and recreational spaces? | - How might different zoning regulations impact the distribution of residential, commercial, and industrial buildings in the future?<br>- Propose urban design solutions that could improve the sustainability and livability of the area, considering both current metrics and future projections. |\n",
    "| **Quantitative and Qualitative Research** | |- Design a research study to investigate the impact of building type diversity on community wellbeing. What methodologies would you use?<br>- Analyze historical data to understand trends in building development and population growth. How have these trends shaped the current urban landscape?<br>- Conduct a SWOT analysis (Strengths, Weaknesses, Opportunities, Threats) of the area based on the building stock and population metrics. |"
   ]
  },
  {
   "cell_type": "code",
   "execution_count": null,
   "metadata": {},
   "outputs": [],
   "source": []
  }
 ],
 "metadata": {
  "kernelspec": {
   "display_name": "osm3D_v4-kernel",
   "language": "python",
   "name": "osm3d_v4-kernel"
  },
  "language_info": {
   "codemirror_mode": {
    "name": "ipython",
    "version": 3
   },
   "file_extension": ".py",
   "mimetype": "text/x-python",
   "name": "python",
   "nbconvert_exporter": "python",
   "pygments_lexer": "ipython3",
   "version": "3.8.18"
  }
 },
 "nbformat": 4,
 "nbformat_minor": 4
}
