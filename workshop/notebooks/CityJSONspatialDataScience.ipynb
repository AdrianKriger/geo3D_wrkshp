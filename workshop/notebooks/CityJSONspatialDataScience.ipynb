{
 "cells": [
  {
   "cell_type": "markdown",
   "id": "164926e0",
   "metadata": {
    "id": "6d0b0da0"
   },
   "source": [
    "## Spatial Data Science with CityJSON\n",
    "\n",
    "The purpose of this Notebook is to ***work with*** the product of [osm_LoD1_3DCityModel](https://github.com/AdrianKriger/osm_LoD1_3DCityModel); a previously created CityJSON city model."
   ]
  },
  {
   "cell_type": "markdown",
   "id": "305f3f23",
   "metadata": {
    "id": "91998c9b"
   },
   "source": [
    "<div class=\"alert alert-block alert-warning\"><b>This notebook will:</b>\n",
    "\n",
    "> **1. allow the user to execute an application of Spatial Data Science**  \n",
    ">\n",
    ">> **a)  [population estimation]** _--with a previous census metric population growth rate and projected (future) population are also possible_  **and**  \n",
    ">> **b)  a measure of [Building Volume per Capita]**\n",
    ">\n",
    "> **2. produce [an interactive visualization]** *-via [pydeck](https://deckgl.readthedocs.io/en/latest/)- which a user can navigate, query and share* **that**;\n",
    "> > **a) [colour buildings by type]** *(to easily visualize building stock)* \n",
    ">\n",
    "> **3. propose several [Geography and Sustainable Development Education *conversation starters*] for Secondary and Tertiary level students**\n",
    "</div>"
   ]
  },
  {
   "cell_type": "code",
   "execution_count": 1,
   "id": "5dd597d7",
   "metadata": {
    "id": "a4ea1fcc"
   },
   "outputs": [],
   "source": [
    "#load the magic\n",
    "\n",
    "%matplotlib inline\n",
    "import os\n",
    "from pathlib import Path\n",
    "\n",
    "import numpy as np\n",
    "import pandas as pd\n",
    "import geopandas as gpd\n",
    "import shapely\n",
    "from shapely.geometry import Polygon, shape, mapping\n",
    "import json\n",
    "import geojson\n",
    "\n",
    "from cjio import cityjson\n",
    "\n",
    "import matplotlib.pyplot as plt\n",
    "import pydeck as pdk"
   ]
  },
  {
   "cell_type": "code",
   "execution_count": 2,
   "id": "3a9a1c3a-3596-4129-9611-0f2ab320bf0b",
   "metadata": {},
   "outputs": [],
   "source": [
    "#- works fine\n",
    "import warnings\n",
    "warnings.filterwarnings('ignore')"
   ]
  },
  {
   "cell_type": "markdown",
   "id": "b1988f7d",
   "metadata": {
    "id": "d19acf91"
   },
   "source": [
    "**The area under investigation is [Mamre, Cape Town. South Africa](https://en.wikipedia.org/wiki/Mamre,_South_Africa).**"
   ]
  },
  {
   "cell_type": "code",
   "execution_count": 3,
   "id": "5557ef08",
   "metadata": {
    "id": "529536e5"
   },
   "outputs": [],
   "source": [
    "#- change to harvest the appropriate CityJSON\n",
    "\n",
    "#jparams = json.load(open('osm3DwStock_param.json'))\n",
    "#jparams = json.load(open('osm3DsRiver_param.json'))\n",
    "#jparams = json.load(open('osm3Dobs_param.json'))\n",
    "jparams = json.load(open('osm3DuEstate_param5m.json'))\n",
    "#jparams = json.load(open('osm3DwEstate_param.json'))      \n",
    "#jparams = json.load(open('osm3Dcput_param.json'))       "
   ]
  },
  {
   "cell_type": "code",
   "execution_count": 4,
   "id": "d9717ddd",
   "metadata": {
    "id": "c45a674c"
   },
   "outputs": [],
   "source": [
    "cm = cityjson.load(path=jparams['cjsn_solid']) #-- citjsnClean_uEstate10m.json in the result folder"
   ]
  },
  {
   "cell_type": "code",
   "execution_count": 5,
   "id": "0360987e",
   "metadata": {},
   "outputs": [
    {
     "name": "stdout",
     "output_type": "stream",
     "text": [
      "CityJSON version = 1.1\n",
      "EPSG = 32734\n",
      "bbox = [263780.58812656754, 6241099.216253888, 45.3, 6241099.216253888, 6241099.216253888, 167.2]\n",
      "=== CityObjects ===\n",
      "|-- TINRelief (1)\n",
      "|-- Building (305)\n",
      "===================\n",
      "materials = False\n",
      "textures = False\n"
     ]
    }
   ],
   "source": [
    "print(cm)"
   ]
  },
  {
   "cell_type": "code",
   "execution_count": 6,
   "id": "f8e0fa63",
   "metadata": {
    "id": "c7ec404d"
   },
   "outputs": [],
   "source": [
    "df = cm.to_dataframe()\n",
    "#- remove the first feature: the terrain\n",
    "df = df[1:]            \n",
    "\n",
    "gdf = gpd.GeoDataFrame(df, geometry=[shape(d) for d in df.pop(\"footprint\")], crs=jparams['crs'])\n",
    "#gdf.head(2)"
   ]
  },
  {
   "cell_type": "code",
   "execution_count": 7,
   "id": "c641b7a9-8029-4118-bf33-89f92b10c7a3",
   "metadata": {},
   "outputs": [
    {
     "data": {
      "text/html": [
       "<div>\n",
       "<style scoped>\n",
       "    .dataframe tbody tr th:only-of-type {\n",
       "        vertical-align: middle;\n",
       "    }\n",
       "\n",
       "    .dataframe tbody tr th {\n",
       "        vertical-align: top;\n",
       "    }\n",
       "\n",
       "    .dataframe thead th {\n",
       "        text-align: right;\n",
       "    }\n",
       "</style>\n",
       "<table border=\"1\" class=\"dataframe\">\n",
       "  <thead>\n",
       "    <tr style=\"text-align: right;\">\n",
       "      <th></th>\n",
       "      <th>osm_id</th>\n",
       "      <th>address</th>\n",
       "      <th>building</th>\n",
       "      <th>building:levels</th>\n",
       "      <th>plus_code</th>\n",
       "      <th>ground_height</th>\n",
       "      <th>building_height</th>\n",
       "      <th>roof_height</th>\n",
       "      <th>geometry</th>\n",
       "    </tr>\n",
       "  </thead>\n",
       "  <tbody>\n",
       "    <tr>\n",
       "      <th>13705114</th>\n",
       "      <td>13705114</td>\n",
       "      <td>197 Nelson Mandela Boulevard Cape Town</td>\n",
       "      <td>warehouse</td>\n",
       "      <td>2</td>\n",
       "      <td>CPX8X9X2+XPV</td>\n",
       "      <td>70.0</td>\n",
       "      <td>6.9</td>\n",
       "      <td>76.9</td>\n",
       "      <td>POLYGON ((264304.860 6241972.753, 264375.824 6...</td>\n",
       "    </tr>\n",
       "    <tr>\n",
       "      <th>739615941</th>\n",
       "      <td>739615941</td>\n",
       "      <td>10 Rhodes Avenue University Estate Cape Town</td>\n",
       "      <td>house</td>\n",
       "      <td>2</td>\n",
       "      <td>CGXMXPX9+XQX</td>\n",
       "      <td>95.3</td>\n",
       "      <td>6.9</td>\n",
       "      <td>102.2</td>\n",
       "      <td>POLYGON ((264275.999 6241813.835, 264278.104 6...</td>\n",
       "    </tr>\n",
       "  </tbody>\n",
       "</table>\n",
       "</div>"
      ],
      "text/plain": [
       "              osm_id                                       address   building  \\\n",
       "13705114    13705114        197 Nelson Mandela Boulevard Cape Town  warehouse   \n",
       "739615941  739615941  10 Rhodes Avenue University Estate Cape Town      house   \n",
       "\n",
       "          building:levels     plus_code  ground_height  building_height  \\\n",
       "13705114                2  CPX8X9X2+XPV           70.0              6.9   \n",
       "739615941               2  CGXMXPX9+XQX           95.3              6.9   \n",
       "\n",
       "           roof_height                                           geometry  \n",
       "13705114          76.9  POLYGON ((264304.860 6241972.753, 264375.824 6...  \n",
       "739615941        102.2  POLYGON ((264275.999 6241813.835, 264278.104 6...  "
      ]
     },
     "execution_count": 7,
     "metadata": {},
     "output_type": "execute_result"
    }
   ],
   "source": [
    "gdf.head(2)"
   ]
  },
  {
   "cell_type": "markdown",
   "id": "0eaaa218-538b-440d-a5a8-880f0bf3626c",
   "metadata": {},
   "source": [
    "<div class=\"alert alert-block alert-info\"><b>Craveat</b> \n",
    "    \n",
    "This community *(Woodstock, Salt River and Observatory)* is the second oldest community in South Africa. The buildings are old. Many have been repurposed. To account for refurbishment *--be as representative as possible--* and conform to the **[OpenStreetMap Guide](https://wiki.openstreetmap.org/wiki/Beginners%27_guide)** we typically tag these:  \n",
    "`building=*` *~ the original purpose* `+` `building:use=*` *~ the current use*.\n",
    "\n",
    "Furthermore; tagging in this community identifies **social housing, social facilities** (care home, shelter, etc.) **and informal housing** (backyard dwelling, shack, etc.) as `building / :use=residential`. **Student accomodation** includes the `residential=student` tag\n",
    "</div>"
   ]
  },
  {
   "cell_type": "code",
   "execution_count": 8,
   "id": "22f27f27-5e90-4f5b-9be6-ccf614785004",
   "metadata": {},
   "outputs": [],
   "source": [
    "#- to account for idiosyncratic mapping: replace building= (old function) if building:use= (new purpose) is present\n",
    "gdf2 = gdf.copy()\n",
    "\n",
    "#- 1\n",
    "if 'building:use' in gdf.columns:\n",
    "    df_res = gdf2[gdf2['building:use'] == 'residential']\n",
    "    #df_res = gdf2[gdf2['building:use'] != None]\n",
    "    df_res = df_res[~df_res['building:use'].isna()]\n",
    "    gdf2.loc[df_res.index, 'building'] = df_res['building:use'] \n",
    "\n",
    "#- 2\n",
    "#gdf2 = gdf.copy()\n",
    "if 'residential' in gdf.columns:\n",
    "    df_res = gdf2[gdf2['residential'] == 'student']\n",
    "    #df_res = df2[df2['building:use'] != None]\n",
    "    df_res = df_res[~df_res['residential'].isna()]\n",
    "    gdf2.loc[df_res.index, 'building'] = df_res['residential'] "
   ]
  },
  {
   "cell_type": "markdown",
   "id": "17ae2c91",
   "metadata": {
    "id": "b87c1769"
   },
   "source": [
    "## 1. Spatial Data Science"
   ]
  },
  {
   "cell_type": "markdown",
   "id": "61389a02",
   "metadata": {
    "id": "7d170bdc"
   },
   "source": [
    "<div class=\"alert alert-block alert-warning\"><b>We start with basic spatial analysis</b>  \n",
    "    \n",
    "     \n",
    "- We'll [estimate the population](#Section1a), within our area of interest, and then  \n",
    "- calculate the [Building Volume Per Capita (BVPC)](#Section1b).\n",
    "</div>"
   ]
  },
  {
   "cell_type": "markdown",
   "id": "88f9c7f0",
   "metadata": {
    "id": "1bae2eb7"
   },
   "source": [
    "While estimating population is well documented; recent investigations to **understand overcrowding** have led to newer measurements.  \n",
    "\n",
    "The most noteable of these is **Building Volume Per Capita (BVPC)** [(Ghosh, T; et al. 2020)](https://www.researchgate.net/publication/343185735_Building_Volume_Per_Capita_BVPC_A_Spatially_Explicit_Measure_of_Inequality_Relevant_to_the_SDGs). BVPC is the cubic meters of building per person. **BVPC tells us how much space one person has per residential living unit** (a house / apartment / etc.). It is ***a proxy measure of economic inequality and a direct measure of housing inequality***.\n",
    "\n",
    "BVPC builds on the work of [(Reddy, A and Leslie, T.F., 2013)](https://www.tandfonline.com/doi/abs/10.1080/02723638.2015.1060696?journalCode=rurb20) and attempts to integrate with several **[Sustainable Development Goals](https://sdgs.un.org/goals)** (most noteably: **[SDG 11: Developing sustainable cities and communities](https://sdgs.un.org/goals/goal11)**) and captures the average ***'living space'*** each person has in their home."
   ]
  },
  {
   "cell_type": "markdown",
   "id": "693b09b6",
   "metadata": {
    "id": "28084941"
   },
   "source": [
    "<div class=\"alert alert-block alert-info\"><b>These analysis expect the user to have some basic knowledge about the environment under inquiry / investigation</b> </div>"
   ]
  },
  {
   "cell_type": "code",
   "execution_count": 9,
   "id": "a44108b5",
   "metadata": {
    "id": "9b5be780",
    "outputId": "fdc6bce5-8012-49fd-d999-4eb6ef7eb015"
   },
   "outputs": [
    {
     "data": {
      "text/plain": [
       "305"
      ]
     },
     "execution_count": 9,
     "metadata": {},
     "output_type": "execute_result"
    }
   ],
   "source": [
    "#gdf.head(2)\n",
    "len(gdf2)"
   ]
  },
  {
   "cell_type": "code",
   "execution_count": 10,
   "id": "1c87ffcf",
   "metadata": {},
   "outputs": [
    {
     "data": {
      "text/plain": [
       "array(['warehouse', 'house', 'garage', 'yes', 'office'], dtype=object)"
      ]
     },
     "execution_count": 10,
     "metadata": {},
     "output_type": "execute_result"
    }
   ],
   "source": [
    "#gdf.plot()\n",
    "# have a look at the building type and amenities available\n",
    "gdf2['building'].unique()"
   ]
  },
  {
   "cell_type": "markdown",
   "id": "aeb2a0d7",
   "metadata": {
    "id": "49f5c85e"
   },
   "source": [
    "<div class=\"alert alert-block alert-success\"><b>1.  a) Estimate Population:</b> \n",
    "    \n",
    "_(with population growth rate and population projection possible too)_ </div>"
   ]
  },
  {
   "cell_type": "code",
   "execution_count": 11,
   "id": "68c33745-1f3b-4997-9825-d69c6a4073be",
   "metadata": {},
   "outputs": [
    {
     "data": {
      "text/html": [
       "<div>\n",
       "<style scoped>\n",
       "    .dataframe tbody tr th:only-of-type {\n",
       "        vertical-align: middle;\n",
       "    }\n",
       "\n",
       "    .dataframe tbody tr th {\n",
       "        vertical-align: top;\n",
       "    }\n",
       "\n",
       "    .dataframe thead th {\n",
       "        text-align: right;\n",
       "    }\n",
       "</style>\n",
       "<table border=\"1\" class=\"dataframe\">\n",
       "  <thead>\n",
       "    <tr style=\"text-align: right;\">\n",
       "      <th></th>\n",
       "      <th>osm_id</th>\n",
       "      <th>address</th>\n",
       "      <th>building</th>\n",
       "      <th>building:levels</th>\n",
       "      <th>plus_code</th>\n",
       "      <th>ground_height</th>\n",
       "      <th>building_height</th>\n",
       "      <th>roof_height</th>\n",
       "      <th>geometry</th>\n",
       "    </tr>\n",
       "  </thead>\n",
       "  <tbody>\n",
       "    <tr>\n",
       "      <th>13705114</th>\n",
       "      <td>13705114</td>\n",
       "      <td>197 Nelson Mandela Boulevard Cape Town</td>\n",
       "      <td>warehouse</td>\n",
       "      <td>2.0</td>\n",
       "      <td>CPX8X9X2+XPV</td>\n",
       "      <td>70.0</td>\n",
       "      <td>6.9</td>\n",
       "      <td>76.9</td>\n",
       "      <td>POLYGON ((264304.860 6241972.753, 264375.824 6...</td>\n",
       "    </tr>\n",
       "    <tr>\n",
       "      <th>739615941</th>\n",
       "      <td>739615941</td>\n",
       "      <td>10 Rhodes Avenue University Estate Cape Town</td>\n",
       "      <td>house</td>\n",
       "      <td>2.0</td>\n",
       "      <td>CGXMXPX9+XQX</td>\n",
       "      <td>95.3</td>\n",
       "      <td>6.9</td>\n",
       "      <td>102.2</td>\n",
       "      <td>POLYGON ((264275.999 6241813.835, 264278.104 6...</td>\n",
       "    </tr>\n",
       "  </tbody>\n",
       "</table>\n",
       "</div>"
      ],
      "text/plain": [
       "              osm_id                                       address   building  \\\n",
       "13705114    13705114        197 Nelson Mandela Boulevard Cape Town  warehouse   \n",
       "739615941  739615941  10 Rhodes Avenue University Estate Cape Town      house   \n",
       "\n",
       "           building:levels     plus_code  ground_height  building_height  \\\n",
       "13705114               2.0  CPX8X9X2+XPV           70.0              6.9   \n",
       "739615941              2.0  CGXMXPX9+XQX           95.3              6.9   \n",
       "\n",
       "           roof_height                                           geometry  \n",
       "13705114          76.9  POLYGON ((264304.860 6241972.753, 264375.824 6...  \n",
       "739615941        102.2  POLYGON ((264275.999 6241813.835, 264278.104 6...  "
      ]
     },
     "execution_count": 11,
     "metadata": {},
     "output_type": "execute_result"
    }
   ],
   "source": [
    "#- some data wrangling\n",
    "with pd.option_context(\"future.no_silent_downcasting\", True):\n",
    "    if 'building:flats' in gdf2.columns: \n",
    "        gdf2['building:flats'] = pd.to_numeric(gdf2['building:flats'].fillna(0).infer_objects(copy=False))\n",
    "    if 'building:units' in gdf2.columns:    \n",
    "        gdf2['building:units'] = pd.to_numeric(gdf2['building:units'].fillna(0).infer_objects(copy=False), errors='coerce')\n",
    "    if 'beds' in gdf2.columns:   \n",
    "        gdf2['beds'] = pd.to_numeric(gdf2['beds'].fillna(0).infer_objects(copy=False))\n",
    "    if 'rooms' in gdf2.columns:   \n",
    "        gdf2['rooms'] = pd.to_numeric(gdf2['rooms'].fillna(0).infer_objects(copy=False))\n",
    "\n",
    "gdf2[\"building:levels\"] = pd.to_numeric(gdf2[\"building:levels\"])\n",
    "\n",
    "gdf2.head(2)"
   ]
  },
  {
   "cell_type": "code",
   "execution_count": 12,
   "id": "68efc119-6ee7-4f26-9717-916dabe57874",
   "metadata": {},
   "outputs": [],
   "source": [
    "#gdf2['building'].value_counts()"
   ]
  },
  {
   "cell_type": "code",
   "execution_count": 13,
   "id": "842acc96",
   "metadata": {
    "id": "1bc556e3"
   },
   "outputs": [],
   "source": [
    "#--we only want building=house or =apartment or =residential\n",
    "gdf_pop = gdf2[gdf2[\"building\"].isin(['house', 'semidetached_house', 'terrace', 'apartments', 'residential', 'dormitory', 'cabin', 'student'])].copy()\n"
   ]
  },
  {
   "cell_type": "code",
   "execution_count": 14,
   "id": "abf404a6-ab50-46d8-bb87-a2550d18ac3f",
   "metadata": {},
   "outputs": [
    {
     "data": {
      "text/plain": [
       "295"
      ]
     },
     "execution_count": 14,
     "metadata": {},
     "output_type": "execute_result"
    }
   ],
   "source": [
    "#inf = gdf_pop[gdf_pop[\"building\"].isin(['residential'])].copy()\n",
    "len(gdf_pop)"
   ]
  },
  {
   "cell_type": "code",
   "execution_count": 15,
   "id": "0abad0a4-4658-435c-abdd-87f40d23b864",
   "metadata": {},
   "outputs": [],
   "source": [
    "#gdf_pop.plot()"
   ]
  },
  {
   "cell_type": "markdown",
   "id": "0af2ad75-60bf-49f7-986f-30a5d6d59bd6",
   "metadata": {},
   "source": [
    "**This area is urban with single and 2-storey level housing units. To estimate population is thus pretty straight forward.**\n",
    "\n",
    "<div class=\"alert alert-block alert-info\"><b>We start with local knowledge.</b></div>\n",
    "\n",
    "**On average there are roughly `4` people per `building:house` in this area.**  \n",
    "\n",
    "**[social housing](https://en.wikipedia.org/wiki/Public_housing)** is tagged `building:residential` with the `3` people per building or `building:flats * 3` if the building is an *apartment-type* complex"
   ]
  },
  {
   "cell_type": "markdown",
   "id": "83e4191e-2a53-4589-b123-c3096dfa85e6",
   "metadata": {},
   "source": [
    "<div class=\"alert alert-block alert-danger\"><b>Your Participation! </b>\n",
    "    \n",
    "\n",
    "We will execute the calculation programmatically. **Fill in the relevant variables in the _`cell`_ below** </div>"
   ]
  },
  {
   "cell_type": "code",
   "execution_count": 16,
   "id": "c148b87f-9d71-4cc8-8486-29f7b81c8def",
   "metadata": {},
   "outputs": [],
   "source": [
    "#- average number of residents per formal house\n",
    "f_house = 4\n",
    "#- average number of residents per informal structure\n",
    "inf_structure = 3"
   ]
  },
  {
   "cell_type": "markdown",
   "id": "d2a7b8f4",
   "metadata": {
    "id": "c162ade5"
   },
   "source": [
    "<div class=\"alert alert-block alert-warning\"><b></b>  \n",
    "    \n",
    "**Furthermore:**    \n",
    "    - An ***informal*** structure ([shack](https://en.wikipedia.org/wiki/Shack)) is tagged [building:cabin](https://wiki.openstreetmap.org/wiki/Tag:building%3Dcabin) and houses `3` people.  \n",
    "    - If a `building:residential` is a `social_facility` (carehome, shelter, etc.) it harvests the `beds` *'key:value'* pair.  \n",
    "    - `building:apartment` harvests the `building:flats` *'key:value'* pair *(the number of units)* to calculate `*3` people per apartment.  \n",
    "    - ***Student accomodation***:  \n",
    ">    - University owed: is tagged `building:dormitory` with `residential:university` and harvests the `beds` or `rooms` *'key:value'* pair.\n",
    ">    - Private for-profit: is tagged `building:residential` or `:dormitory` with `residential:university` and then harvests the `building:flats` or `:rooms` *'key:value'* pair *(the number of units)* to calculate `*1` people per apartment; if `level: > 1` else `*3` people in a house share.  \n",
    "\n",
    "**The tagging scheme and numbers is based on *how your community is mapped* and local knowledge**\n",
    "</div>"
   ]
  },
  {
   "cell_type": "code",
   "execution_count": 17,
   "id": "dc7c0efc",
   "metadata": {
    "id": "93750cce",
    "outputId": "69350a81-445e-44d0-adb9-d52b7057b988"
   },
   "outputs": [
    {
     "name": "stdout",
     "output_type": "stream",
     "text": [
      "The estimated population is: 1180\n"
     ]
    }
   ],
   "source": [
    "c = gdf_pop.columns\n",
    "\n",
    "def pop(row):\n",
    "    #- formal house\n",
    "    if row['building'] == 'house' or row['building'] == 'semidetached_house':\n",
    "        return f_house\n",
    "    if row['building'] == 'terrace':\n",
    "        return row['building:units'] * f_house\n",
    "\n",
    "    #- informal structure (shack)\n",
    "    if row['building'] == 'cabin':\n",
    "        return inf_structure\n",
    "        \n",
    "    #- in this case social housing\n",
    "    if row['building'] == 'residential' and 'social_facility' in c and row['social_facility'] is np.nan:\n",
    "        if row['building:levels'] > 1:\n",
    "            if 'rooms' in row and row['rooms'] != 0:\n",
    "                return row['rooms']\n",
    "            if 'building:flats' in row and row['building:flats'] != 0:\n",
    "                return row['building:flats'] * inf_structure\n",
    "        else:\n",
    "            return inf_structure\n",
    "    #-- social facility [shelter / carehome]\n",
    "    if row['building'] == 'residential' and row['social_facility'] is not np.nan:\n",
    "        if row['building:units'] != 0:\n",
    "            return row['building:units'] * inf_structure\n",
    "        else: \n",
    "            return row['beds']\n",
    "                \n",
    "    #- formal apartment\n",
    "    if row['building'] == 'apartments':\n",
    "        return row['building:flats'] * 3\n",
    "        \n",
    "    #- private student residence \n",
    "    if row['building'] == 'student':\n",
    "        if row['building:levels'] > 1:\n",
    "            return row['building:flats']\n",
    "        else:\n",
    "            return 3\n",
    "    # university owned student residence\n",
    "    if row['building'] == 'dormitory' and row['residential'] == 'university':\n",
    "        if row['building:levels'] > 1:\n",
    "            if 'rooms' in row and row['rooms'] != 0:\n",
    "                return row['rooms']\n",
    "            if 'beds' in row and row['beds'] != 0:\n",
    "                return row['beds']\n",
    "        else:\n",
    "            return 3\n",
    "\n",
    "gdf_pop['pop'] = gdf_pop.apply(lambda x: pop(x), axis=1)\n",
    "\n",
    "est_pop = int(gdf_pop['pop'].sum())\n",
    "print('The estimated population is:', est_pop)"
   ]
  },
  {
   "cell_type": "markdown",
   "id": "48fe80cb",
   "metadata": {
    "id": "01f52225"
   },
   "source": [
    "**[Statistics South Africa (STATSA)](https://www.statssa.gov.za) does not typically release official statistics at a suburb level but [City of Cape Town](https://www.capetown.gov.za/Family%20and%20home/education-and-research-materials/data-statistics-and-research/cape-town-census) generously publishes suburb profiles as Open Data.  \n",
    "These numbers are based on disaggregated [Statistics South Africa (STATSA)](https://www.statssa.gov.za) [Census 2011](https://www.statssa.gov.za/?page_id=3839).** \n",
    "\n",
    "**Woodstock 12 656** (6 577: salt river and 9 207: observatory). \n",
    "\n",
    "We can calculate the annual population growth rate using the formula for **[Annual population growth](https://databank.worldbank.org/metadataglossary/health-nutrition-and-population-statistics/series/SP.POP.GROW):**\n",
    "\n",
    "$$r = \\frac{\\ln{[\\frac{End Population}{Start Population}}]}{n} * 100 = \\frac{\\ln{[\\frac{17 062}{9345}}]}{12} * 100   = 2.49\\%$$"
   ]
  },
  {
   "cell_type": "markdown",
   "id": "9ae85954-dd0a-43e2-9160-d0f6285a6ad1",
   "metadata": {},
   "source": [
    "<div class=\"alert alert-block alert-danger\"><b>Your Participation! </b>\n",
    "    \n",
    "\n",
    "It is possible to execute the calculation programmatically. **Fill in the relevant variables in the _`cell`_ below** </div>"
   ]
  },
  {
   "cell_type": "code",
   "execution_count": 18,
   "id": "471c0219-00c6-4b06-a67c-b2cdf30df942",
   "metadata": {},
   "outputs": [],
   "source": [
    "#- previous population\n",
    "start_population = 12656\n",
    "\n",
    "#- period in years from the previous census\n",
    "years = 12"
   ]
  },
  {
   "cell_type": "code",
   "execution_count": 19,
   "id": "8efec5c3-9266-44f0-bc44-202b83ff6f2c",
   "metadata": {},
   "outputs": [
    {
     "name": "stdout",
     "output_type": "stream",
     "text": [
      "population growth rate of approximately: -19.77 %\n"
     ]
    }
   ],
   "source": [
    "#-execute\n",
    "r = (np.log(est_pop/start_population)/years) * 100\n",
    "print('population growth rate of approximately:', round(r, 2), '%')"
   ]
  },
  {
   "cell_type": "markdown",
   "id": "d77014f9-70da-4ebc-91e9-ea1888230ab8",
   "metadata": {},
   "source": [
    "To conclude; we can project into the future with a very basic formula to estimate the population _x_-years from now:  \n",
    "\n",
    "$$p  = P_o * (1 + r)^{t} = p = 17062 * (1 + 0.0248)^{10}  = 21 818$$"
   ]
  },
  {
   "cell_type": "markdown",
   "id": "fe147a37-0bf0-4a67-8e3f-0d7de83eae75",
   "metadata": {},
   "source": [
    "<div class=\"alert alert-block alert-danger\"><b>Your Participation! </b>\n",
    "    \n",
    "\n",
    "It is possible to execute the calculation programmatically. **Fill in the variables in the _`cell`_ below** </div>"
   ]
  },
  {
   "cell_type": "code",
   "execution_count": 20,
   "id": "bb306d3c-351c-45fb-b75c-f3831a676466",
   "metadata": {},
   "outputs": [],
   "source": [
    "#- period in years from now\n",
    "years = 10"
   ]
  },
  {
   "cell_type": "code",
   "execution_count": 21,
   "id": "34876cd3-8660-4971-a600-818d6aabd7dd",
   "metadata": {},
   "outputs": [
    {
     "name": "stdout",
     "output_type": "stream",
     "text": [
      "estimated population 10 years from now: 130\n"
     ]
    }
   ],
   "source": [
    "p = est_pop * (1 + (r/100))**years\n",
    "\n",
    "print('estimated population', years ,'years from now:', int(p))"
   ]
  },
  {
   "cell_type": "markdown",
   "id": "954226c4",
   "metadata": {
    "id": "395e1ac4"
   },
   "source": [
    "<div class=\"alert alert-block alert-success\"><b>1. b) Building Volume Per Capita (BVPC):</b>  \n",
    "BVPC = total population of a community divided by sum of building volume</div>"
   ]
  },
  {
   "cell_type": "code",
   "execution_count": 22,
   "id": "538cc014-8002-4f1c-8b92-77890f4bed8c",
   "metadata": {},
   "outputs": [],
   "source": [
    "#gdf_pop.head(3)"
   ]
  },
  {
   "cell_type": "code",
   "execution_count": 23,
   "id": "94d28d52",
   "metadata": {
    "id": "d9a75295",
    "outputId": "a4db8ecc-c9b3-4ce1-f638-312b2e82006e"
   },
   "outputs": [
    {
     "data": {
      "text/html": [
       "<div>\n",
       "<style scoped>\n",
       "    .dataframe tbody tr th:only-of-type {\n",
       "        vertical-align: middle;\n",
       "    }\n",
       "\n",
       "    .dataframe tbody tr th {\n",
       "        vertical-align: top;\n",
       "    }\n",
       "\n",
       "    .dataframe thead th {\n",
       "        text-align: right;\n",
       "    }\n",
       "</style>\n",
       "<table border=\"1\" class=\"dataframe\">\n",
       "  <thead>\n",
       "    <tr style=\"text-align: right;\">\n",
       "      <th></th>\n",
       "      <th>osm_id</th>\n",
       "      <th>address</th>\n",
       "      <th>building</th>\n",
       "      <th>building:levels</th>\n",
       "      <th>plus_code</th>\n",
       "      <th>ground_height</th>\n",
       "      <th>building_height</th>\n",
       "      <th>roof_height</th>\n",
       "      <th>geometry</th>\n",
       "      <th>pop</th>\n",
       "      <th>area</th>\n",
       "      <th>volume</th>\n",
       "      <th>bvpc</th>\n",
       "    </tr>\n",
       "  </thead>\n",
       "  <tbody>\n",
       "    <tr>\n",
       "      <th>1025219390</th>\n",
       "      <td>1025219390</td>\n",
       "      <td>10 Kylemore Road University Estate Cape Town</td>\n",
       "      <td>house</td>\n",
       "      <td>2.0</td>\n",
       "      <td>CCX6X8XC+X7V</td>\n",
       "      <td>104.2</td>\n",
       "      <td>6.9</td>\n",
       "      <td>111.1</td>\n",
       "      <td>POLYGON ((264231.363 6241791.926, 264231.955 6...</td>\n",
       "      <td>4</td>\n",
       "      <td>123.181468</td>\n",
       "      <td>849.952130</td>\n",
       "      <td>212.488032</td>\n",
       "    </tr>\n",
       "    <tr>\n",
       "      <th>1025219391</th>\n",
       "      <td>1025219391</td>\n",
       "      <td>2 Rhodes Avenue University Estate Cape Town</td>\n",
       "      <td>house</td>\n",
       "      <td>2.0</td>\n",
       "      <td>C9XXX2X6+XQW</td>\n",
       "      <td>101.2</td>\n",
       "      <td>6.9</td>\n",
       "      <td>108.1</td>\n",
       "      <td>POLYGON ((264224.292 6241856.433, 264214.469 6...</td>\n",
       "      <td>4</td>\n",
       "      <td>105.446178</td>\n",
       "      <td>727.578631</td>\n",
       "      <td>181.894658</td>\n",
       "    </tr>\n",
       "  </tbody>\n",
       "</table>\n",
       "</div>"
      ],
      "text/plain": [
       "                osm_id                                       address building  \\\n",
       "1025219390  1025219390  10 Kylemore Road University Estate Cape Town    house   \n",
       "1025219391  1025219391   2 Rhodes Avenue University Estate Cape Town    house   \n",
       "\n",
       "            building:levels     plus_code  ground_height  building_height  \\\n",
       "1025219390              2.0  CCX6X8XC+X7V          104.2              6.9   \n",
       "1025219391              2.0  C9XXX2X6+XQW          101.2              6.9   \n",
       "\n",
       "            roof_height                                           geometry  \\\n",
       "1025219390        111.1  POLYGON ((264231.363 6241791.926, 264231.955 6...   \n",
       "1025219391        108.1  POLYGON ((264224.292 6241856.433, 264214.469 6...   \n",
       "\n",
       "            pop        area      volume        bvpc  \n",
       "1025219390    4  123.181468  849.952130  212.488032  \n",
       "1025219391    4  105.446178  727.578631  181.894658  "
      ]
     },
     "execution_count": 23,
     "metadata": {},
     "output_type": "execute_result"
    }
   ],
   "source": [
    "gdf_pop['area'] = gdf_pop['geometry'].area#\\.map(lambda p: p.area)\n",
    "gdf_pop['volume'] = gdf_pop['area'] * gdf_pop['building_height']\n",
    "\n",
    "#- remove the volume of the ground floor (unoccupied) when building:levels > 7 [this is an arbitrary number based on local knowledge]\n",
    "#- typically the space is reserved for some other function: retail, etc. \n",
    "gdf_pop['volume'] = [\n",
    "    (row['volume'] - row['area'] * 2.8) if (\n",
    "        'social_facility' in row and row['social_facility'] is np.nan and (row['building:levels'] > 7 and\n",
    "        row['building'] in ['residential', 'apartments', 'student'])\n",
    "    ) else row['volume']\n",
    "    for _, row in gdf_pop.iterrows()\n",
    "]\n",
    "\n",
    "gdf_pop['bvpc'] =  gdf_pop['volume'] / gdf_pop['pop']\n",
    "\n",
    "gdf_pop.tail(2)"
   ]
  },
  {
   "cell_type": "code",
   "execution_count": 24,
   "id": "ce47ce5e",
   "metadata": {
    "id": "6d44d125",
    "outputId": "2d3355f4-5870-492a-d2db-4ad3a7dfedc8"
   },
   "outputs": [
    {
     "name": "stdout",
     "output_type": "stream",
     "text": [
      "count    295.000000\n",
      "mean     213.642812\n",
      "std      126.850648\n",
      "min       34.491596\n",
      "25%      129.096209\n",
      "50%      179.227566\n",
      "75%      265.138697\n",
      "max      971.830674\n",
      "Name: bvpc, dtype: float64\n"
     ]
    }
   ],
   "source": [
    "print(gdf_pop['bvpc'].describe())"
   ]
  },
  {
   "cell_type": "code",
   "execution_count": 25,
   "id": "e0abe768",
   "metadata": {
    "id": "c98dafa0",
    "outputId": "d2b038a0-fddb-4fae-9b34-ad020453140d"
   },
   "outputs": [
    {
     "name": "stdout",
     "output_type": "stream",
     "text": [
      "Building Volume Per Capita (BVPC): 213.643\n"
     ]
    }
   ],
   "source": [
    "bvpc = round(gdf_pop['volume'].sum() / est_pop, 3)\n",
    "\n",
    "print('Building Volume Per Capita (BVPC):', bvpc)"
   ]
  },
  {
   "cell_type": "code",
   "execution_count": 26,
   "id": "86e177ee-abd6-485f-9efc-89ce785857db",
   "metadata": {},
   "outputs": [],
   "source": [
    "#stu"
   ]
  },
  {
   "cell_type": "markdown",
   "id": "05e8659c",
   "metadata": {
    "id": "f6576dc6"
   },
   "source": [
    "<div class=\"alert alert-block alert-info\"><b></b>\n",
    "\n",
    "**This BVPC value is general.**  \n",
    "\n",
    "We can seperate `building:house` from `building:cabin` and `building:residential` to undertand the differences between ***formal and informal*** housing in this area.\n",
    "    \n",
    "**We want to understand the living space *(the cubic-meter BVPC value)* each person has in thier home**\n",
    "</div>"
   ]
  },
  {
   "cell_type": "code",
   "execution_count": 27,
   "id": "5007fded-ae76-4431-8035-5b9d48aad0f5",
   "metadata": {},
   "outputs": [],
   "source": [
    "#gdf_pop[[\"osm_address\", \"osm_building:levels\", \"osm_beds\", \"bvpc\"]]\n",
    "#informal"
   ]
  },
  {
   "cell_type": "code",
   "execution_count": 28,
   "id": "29ac68f3-d8ec-4e78-82ba-746d8f050033",
   "metadata": {},
   "outputs": [
    {
     "name": "stdout",
     "output_type": "stream",
     "text": [
      "FORMAL: Population:  1180  with Building Volume Per Capita (BVPC): 213.643\n",
      "\n",
      "STUDENT RESIDENCE: Population:  0  with Building Volume Per Capita (BVPC): 0\n",
      "\n",
      "INFORMAL: Population:  0  with Building Volume Per Capita (BVPC) 0\n"
     ]
    }
   ],
   "source": [
    "formal = gdf_pop[gdf_pop[\"building\"].isin(['house', 'semidetached_house', 'terrace', 'apartment'])].copy()\n",
    "f_pop = int(formal['pop'].sum())\n",
    "#f_area = formal['area'].mean()\n",
    "\n",
    "informal = gdf_pop[gdf_pop[\"building\"].isin(['residential', 'cabin'])].copy()\n",
    "inf_pop = int(informal['pop'].sum())\n",
    "#inf_area = formal['area'].mean()\n",
    "\n",
    "#- student\n",
    "stu = gdf_pop[gdf_pop[\"building\"].isin(['student', 'dormitory'])].copy()\n",
    "stu_pop = int(stu['pop'].sum())\n",
    "\n",
    "#bvpc_formal = round(formal['volume'].sum() / est_pop, 3)\n",
    "#bvpc_informal = round(informal['volume'].sum() / est_pop, 3)\n",
    "#bvpc_stu = round(stu['volume'].sum() / est_pop, 3)\n",
    "\n",
    "bvpc_formal = round(formal['volume'].sum() / formal['pop'].sum(), 3)\n",
    "bvpc_informal = round(informal['volume'].sum() / informal['pop'].sum() if informal['pop'].sum() != 0 else 0, 3)\n",
    "bvpc_stu = round(stu['volume'].sum() / stu['pop'].sum() if stu['pop'].sum() != 0 else 0, 3)\n",
    "\n",
    "print('FORMAL: Population: ', f_pop, ' with Building Volume Per Capita (BVPC):', bvpc_formal)\n",
    "print('')\n",
    "print('STUDENT RESIDENCE: Population: ', stu_pop, ' with Building Volume Per Capita (BVPC):', bvpc_stu)\n",
    "print('')\n",
    "print('INFORMAL: Population: ', inf_pop, ' with Building Volume Per Capita (BVPC)', bvpc_informal)"
   ]
  },
  {
   "cell_type": "code",
   "execution_count": 29,
   "id": "1c0fbb1c-9509-4686-9162-131f41a062a8",
   "metadata": {},
   "outputs": [],
   "source": [
    "#informal"
   ]
  },
  {
   "cell_type": "markdown",
   "id": "e2d29b09-6b5e-481d-a208-52bb27dea51c",
   "metadata": {},
   "source": [
    "<div class=\"alert alert-block alert-danger\"><b>Warning: </b>\n",
    "    \n",
    "\n",
    "These are LoD1 3D City Models and works well in these types of areas.  \n",
    "LoD2 would offer a more representative BVpC [(Ghosh, T; et al. 2020)](https://www.researchgate.net/publication/343185735_Building_Volume_Per_Capita_BVPC_A_Spatially_Explicit_Measure_of_Inequality_Relevant_to_the_SDGs) value; when the complexity of the built environment increases.  \n",
    "\n",
    "Think about a `house` with living space in the roof structure, so called *'attic living'*, or an `apartment` / `residential` building with different levels, loft apartments and/or units in the turrets of a `building`. \n",
    "\n",
    "***consider***: ***[geo3D](https://adriankriger.github.io/geo3D/)*** seperates [building:cabin](https://wiki.openstreetmap.org/wiki/Tag:building%3Dcabin) from `building:residential` to more precisely represent informal structures which typical do not have roof trussess but account for [social housing](https://en.wikipedia.org/wiki/Public_housing) that does</div></div>"
   ]
  },
  {
   "cell_type": "markdown",
   "id": "bbb64ecc",
   "metadata": {
    "id": "c0daa088"
   },
   "source": [
    "## 2. Interactive Visualization\n",
    "\n",
    "You might want to create and share an `html` visualization.\n",
    "\n",
    "<div class=\"alert alert-block alert-warning\"><b> </b>  \n",
    "    \n",
    "_In this example we identify building stock by **color** but you are limited only through your imagination and the data you have access too_\n",
    "</div>"
   ]
  },
  {
   "cell_type": "code",
   "execution_count": 30,
   "id": "48b114d1",
   "metadata": {},
   "outputs": [],
   "source": [
    "#- pydeck needs geographic coords\n",
    "gdf = gdf2.to_crs(4326)"
   ]
  },
  {
   "cell_type": "code",
   "execution_count": 31,
   "id": "ebffd46f",
   "metadata": {},
   "outputs": [],
   "source": [
    "# -- get the location for pydeck\n",
    "with warnings.catch_warnings():\n",
    "    warnings.simplefilter('ignore')\n",
    "    [xy] = gdf.dissolve().centroid\n",
    "\n",
    "bbox = [gdf.total_bounds[0], gdf.total_bounds[1], \n",
    "        gdf.total_bounds[2], gdf.total_bounds[3]]"
   ]
  },
  {
   "cell_type": "code",
   "execution_count": 32,
   "id": "6d620069",
   "metadata": {},
   "outputs": [
    {
     "data": {
      "text/plain": [
       "array(['warehouse', 'house', 'garage', 'yes', 'office'], dtype=object)"
      ]
     },
     "execution_count": 32,
     "metadata": {},
     "output_type": "execute_result"
    }
   ],
   "source": [
    "# have a look at the building type and amenities available\n",
    "gdf['building'].unique()"
   ]
  },
  {
   "cell_type": "markdown",
   "id": "95db7a64-6670-4b1d-86ae-a1476ef72f78",
   "metadata": {},
   "source": [
    "<div class=\"alert alert-block alert-success\"><b>Building Stock:</b> To differentiate a school, housing, retail, healthcare and community focused facilities (library, municipal office, community centre) we color the buildings - we harvest the osm tags [amenity and building type] directly.</div>"
   ]
  },
  {
   "cell_type": "code",
   "execution_count": 33,
   "id": "f777c749",
   "metadata": {},
   "outputs": [],
   "source": [
    "#-- colour the building stock based on building:type\n",
    "\n",
    "## while we can color with a built-in pydeck function\n",
    "#color_lookup = pdk.data_utils.assign_random_colors(build_df['building'])\n",
    " # Assign a color\n",
    "#build_df['color'] = build_df.apply(lambda row: color_lookup.get(row['building']), axis=1)\n",
    "\n",
    "## we define specific colors\n",
    "def color(bld):\n",
    "    #- formal house\n",
    "    if bld == 'house' or bld == 'semidetached_house':\n",
    "        return [255, 255, 204]        #-grey\n",
    "    #- informal structure / social housing\n",
    "    if bld == 'residential' or bld == 'dormitory' or bld == 'cabin':\n",
    "        return [119, 3, 252]          #-purple\n",
    "    if bld == 'apartments':\n",
    "        return [252, 194, 3]          #-orange \n",
    "    if bld == 'garage' or bld == 'parking':\n",
    "        return [3, 132, 252]          #-blue        \n",
    "    if bld == 'retail' or bld == 'supermarket':\n",
    "        return [253, 141, 60]\n",
    "    if bld == 'office' or bld == 'commercial':\n",
    "        return [185, 206, 37]\n",
    "    if bld == 'school' or bld == 'kindergarten' or bld == 'university' or bld == 'college':\n",
    "        return [128, 0, 38]\n",
    "    if bld == 'clinic' or bld == 'doctors' or bld == 'hospital':\n",
    "        return [89, 182, 178]\n",
    "    if bld == 'community_centre' or bld == 'service' or bld ==  'post_office' or bld == 'hall' \\\n",
    "    or bld ==  'townhall' or bld == 'police' or bld ==  'library':\n",
    "        return [181, 182, 89]\n",
    "    if bld == 'warehouse' or bld == 'industrial':\n",
    "        return [193, 255, 193]\n",
    "    if bld == 'restaurant' or bld == 'hotel':\n",
    "        return [139, 117, 0]\n",
    "    if bld == 'place_of_worship' or bld == 'church' or bld == 'mosque':\n",
    "        return [225, 225, 51]\n",
    "    else:\n",
    "        return [255, 255, 204]\n",
    "\n",
    "gdf[\"color\"] = gdf['building'].apply(lambda x: color(x))"
   ]
  },
  {
   "cell_type": "code",
   "execution_count": 34,
   "id": "5e88b1da",
   "metadata": {},
   "outputs": [
    {
     "data": {
      "text/html": [
       "<div>\n",
       "<style scoped>\n",
       "    .dataframe tbody tr th:only-of-type {\n",
       "        vertical-align: middle;\n",
       "    }\n",
       "\n",
       "    .dataframe tbody tr th {\n",
       "        vertical-align: top;\n",
       "    }\n",
       "\n",
       "    .dataframe thead th {\n",
       "        text-align: right;\n",
       "    }\n",
       "</style>\n",
       "<table border=\"1\" class=\"dataframe\">\n",
       "  <thead>\n",
       "    <tr style=\"text-align: right;\">\n",
       "      <th></th>\n",
       "      <th>osm_id</th>\n",
       "      <th>address</th>\n",
       "      <th>building</th>\n",
       "      <th>building:levels</th>\n",
       "      <th>plus_code</th>\n",
       "      <th>ground_height</th>\n",
       "      <th>building_height</th>\n",
       "      <th>roof_height</th>\n",
       "      <th>geometry</th>\n",
       "      <th>color</th>\n",
       "    </tr>\n",
       "  </thead>\n",
       "  <tbody>\n",
       "    <tr>\n",
       "      <th>13705114</th>\n",
       "      <td>13705114</td>\n",
       "      <td>197 Nelson Mandela Boulevard Cape Town</td>\n",
       "      <td>warehouse</td>\n",
       "      <td>2.0</td>\n",
       "      <td>CPX8X9X2+XPV</td>\n",
       "      <td>70.0</td>\n",
       "      <td>6.9</td>\n",
       "      <td>76.9</td>\n",
       "      <td>POLYGON ((18.44997 -33.93634, 18.45072 -33.936...</td>\n",
       "      <td>[193, 255, 193]</td>\n",
       "    </tr>\n",
       "    <tr>\n",
       "      <th>739615941</th>\n",
       "      <td>739615941</td>\n",
       "      <td>10 Rhodes Avenue University Estate Cape Town</td>\n",
       "      <td>house</td>\n",
       "      <td>2.0</td>\n",
       "      <td>CGXMXPX9+XQX</td>\n",
       "      <td>95.3</td>\n",
       "      <td>6.9</td>\n",
       "      <td>102.2</td>\n",
       "      <td>POLYGON ((18.44961 -33.93777, 18.44964 -33.937...</td>\n",
       "      <td>[255, 255, 204]</td>\n",
       "    </tr>\n",
       "  </tbody>\n",
       "</table>\n",
       "</div>"
      ],
      "text/plain": [
       "              osm_id                                       address   building  \\\n",
       "13705114    13705114        197 Nelson Mandela Boulevard Cape Town  warehouse   \n",
       "739615941  739615941  10 Rhodes Avenue University Estate Cape Town      house   \n",
       "\n",
       "           building:levels     plus_code  ground_height  building_height  \\\n",
       "13705114               2.0  CPX8X9X2+XPV           70.0              6.9   \n",
       "739615941              2.0  CGXMXPX9+XQX           95.3              6.9   \n",
       "\n",
       "           roof_height                                           geometry  \\\n",
       "13705114          76.9  POLYGON ((18.44997 -33.93634, 18.45072 -33.936...   \n",
       "739615941        102.2  POLYGON ((18.44961 -33.93777, 18.44964 -33.937...   \n",
       "\n",
       "                     color  \n",
       "13705114   [193, 255, 193]  \n",
       "739615941  [255, 255, 204]  "
      ]
     },
     "execution_count": 34,
     "metadata": {},
     "output_type": "execute_result"
    }
   ],
   "source": [
    "#- look\n",
    "gdf.head(2)"
   ]
  },
  {
   "cell_type": "code",
   "execution_count": null,
   "id": "953ef059",
   "metadata": {},
   "outputs": [],
   "source": [
    "## ~ (x, y) - bl, tl, tr, br  ~~ or ~~ sw, nw, ne, se\n",
    "#area = [[[18.4377, -33.9307], [18.4377, -33.9283], [18.4418, -33.9283], [18.4418, -33.9307]]]\n",
    "area = [[[bbox[0], bbox[1]], [bbox[0], bbox[3]], \n",
    "         [bbox[2], bbox[3]], [bbox[2], bbox[1]]]]\n",
    "\n",
    "## ~ (y, x)\n",
    "view_state = pdk.ViewState(latitude=xy.y, longitude=xy.x, zoom=16.5, max_zoom=19, pitch=72, \n",
    "                                   bearing=80)\n",
    "\n",
    "land = pdk.Layer(\n",
    "    \"PolygonLayer\",\n",
    "    area,\n",
    "    stroked=False,\n",
    "    # processes the data as a flat longitude-latitude pair\n",
    "    get_polygon=\"-\",\n",
    "    get_fill_color=[0, 0, 0, 1],\n",
    "    #material = True,\n",
    "    #shadowEnabled = True\n",
    ")\n",
    "building_layer = pdk.Layer(\n",
    "    \"PolygonLayer\",\n",
    "    gdf,\n",
    "    #id=\"geojson\",\n",
    "    opacity=0.3,\n",
    "    stroked=False,\n",
    "    get_polygon=\"geometry.coordinates\",\n",
    "    filled=True,\n",
    "    extruded=True,\n",
    "    wireframe=False,\n",
    "    get_elevation=\"building_height\",\n",
    "    #get_fill_color=\"[255, 255, 255]\", #255, 255, 255\n",
    "    get_fill_color=\"color\",\n",
    "    get_line_color=\"color\",#[255, 255, 255],\n",
    "    #material = True, \n",
    "    #shadowEnabled = True, \n",
    "    auto_highlight=True,\n",
    "    pickable=True,\n",
    ")\n",
    "\n",
    "tooltip = {\"html\": \"<b>Levels:</b> {building:levels} <br/> <b>Address:</b> {address}\\\n",
    "<br/> <b>Plus Code:</b> {plus_code} <br/> <b>Building Type:</b> {building}\"}\n",
    "\n",
    "#change the tooltip to show bus routes and comment out the previous\n",
    "#tooltip = {\"html\": \"<b>Route:</b> {name} <br/>\"}\n",
    "\n",
    "r = pdk.Deck(layers=[land,  building_layer],#, greenspaces_layer, p_layer, water_layer, r_layer], #\n",
    "             #views=[{\"@@type\": \"MapView\", \"controller\": True}],\n",
    "             initial_view_state=view_state,\n",
    "             map_style = 'dark_no_labels', #pdk.map_styles.LIGHT,\n",
    "             tooltip=tooltip)\n",
    "#save\n",
    "r.to_html(\"./result/interactiveOnly.html\")"
   ]
  },
  {
   "cell_type": "markdown",
   "id": "7addad28",
   "metadata": {},
   "source": [
    "**on a laptop without a mouse:**\n",
    "\n",
    "- `trackpad left-click drag-left` and `-right`;\n",
    "- `Ctrl left-click drag-up`, `-down`, `-left` and `-right` to rotate and so-on and\n",
    "- `+` next to Backspace zoom-in and `-` next to `+` zoom-out.\n",
    "\n",
    "**Now you do your community.** ~ If your area needs [OpenStreetMap](https://en.wikipedia.org/wiki/OpenStreetMap)  data and you want to contribute please follow the [Guide](https://wiki.openstreetmap.org/wiki/Beginners%27_guide)."
   ]
  },
  {
   "cell_type": "markdown",
   "id": "b3d0d0d0-8712-4f5a-a992-5e6d7a9e741d",
   "metadata": {},
   "source": [
    "<div class=\"alert alert-block alert-success\"><b>3. Possible Secondary and Tertiary level conversations starters:</b></div>"
   ]
  },
  {
   "cell_type": "markdown",
   "id": "e82860fd-6821-44b8-b3e3-1d5ddddc94c8",
   "metadata": {},
   "source": [
    "| **Topic**                                | **Secondary Level Questions**                                                                                                                                                                                   | **Tertiary Level Questions**                                                                                                                                                                                                                   |\n",
    "|------------------------------------------|-----------------------------------------------------------------------------------------------------------------------------------------------------------------------------------------------------------------|--------------------------------------------------------------------------------------------------------------------------------------------------------------------------------------------------------------------------------------------------|\n",
    "| **Basic Understanding and Observations** | - What types of buildings are most common in the area (houses, apartments, retail, etc.)?<br>- Can you identify any patterns in the distribution of different types of buildings (e.g., are retail stores concentrated in certain areas)? | - How does the building stock composition (e.g., ratio of houses) correlate with the population? *demographics (e.g., age distribution, household size) for the area will strengthen the analysis!* <br>- Analyze the relationship between building density and population. What urban planning theories can explain this relationship? |\n",
    "| **Spatial Relationships and Impacts**    | - How does the location of residential areas compare to the location of retail and commercial areas?<br>- What impact might the density and distribution of buildings have on local traffic and transportation?<br>- How might the population distribution affect the demand for local services such as schools, hospitals, and parks? | - Evaluate the accessibility of essential services (e.g., healthcare, education) in relation to the population and building types.<br>- Assess the potential social and economic impacts of a proposed new residential or commercial development in the area.                  |\n",
    "| **Socioeconomic and Environmental Considerations** | - Are there any correlations between the types of housing available and the household size? *additional demographics (e.g., income level) for the area will strengthen the analysis!*<br>- How might the current building stock and population influence the local economy? *demographics (e.g., age distribution, household size) for the area will strengthen the analysis!*<br>- What are some potential environmental impacts of the current building distribution, such as green space availability or pollution levels? | - How does the current building stock support or hinder sustainable development goals (e.g., energy efficiency, reduced carbon footprint)?<br>- What strategies could be implemented to increase the resilience of the community to environmental or economic changes?                       |\n",
    "| **Future Planning and Development**      | - Based on the current building stock and population metrics, what areas might benefit from additional housing or commercial development?<br>- How could urban planners use this information to improve the quality of life in the area?<br>- What changes would you recommend to better balance residential, commercial, and recreational spaces? | - How might different zoning regulations impact the distribution of residential, commercial, and industrial buildings in the future?<br>- Propose urban design solutions that could improve the sustainability and livability of the area, considering both current metrics and future projections. |\n",
    "| **Quantitative and Qualitative Research** | |- Design a research study to investigate the impact of building type diversity on community wellbeing. What methodologies would you use?<br>- Analyze historical data to understand trends in building development and population growth. How have these trends shaped the current urban landscape?<br>- Conduct a SWOT analysis (Strengths, Weaknesses, Opportunities, Threats) of the area based on the building stock and population metrics. |"
   ]
  },
  {
   "cell_type": "code",
   "execution_count": null,
   "id": "8fc3fed6-3512-4a11-82cf-183f62c86e78",
   "metadata": {},
   "outputs": [],
   "source": []
  }
 ],
 "metadata": {
  "colab": {
   "provenance": []
  },
  "kernelspec": {
   "display_name": "Python 3 (ipykernel)",
   "language": "python",
   "name": "python3"
  },
  "language_info": {
   "codemirror_mode": {
    "name": "ipython",
    "version": 3
   },
   "file_extension": ".py",
   "mimetype": "text/x-python",
   "name": "python",
   "nbconvert_exporter": "python",
   "pygments_lexer": "ipython3",
   "version": "3.9.21"
  }
 },
 "nbformat": 4,
 "nbformat_minor": 5
}
